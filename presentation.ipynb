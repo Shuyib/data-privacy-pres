{
 "cells": [
  {
   "cell_type": "markdown",
   "id": "846ba1c2",
   "metadata": {
    "slideshow": {
     "slide_type": "slide"
    }
   },
   "source": [
    "## Data Privacy and Anonymization"
   ]
  },
  {
   "cell_type": "code",
   "execution_count": 1,
   "id": "6c1c6707",
   "metadata": {},
   "outputs": [
    {
     "name": "stdout",
     "output_type": "stream",
     "text": [
      "3.10.12 (main, Nov 20 2023, 15:14:05) [GCC 11.4.0]\n",
      "['/home/stormbird/Desktop/data-privacy-pres', '/usr/lib/python310.zip', '/usr/lib/python3.10', '/usr/lib/python3.10/lib-dynload', '', '/home/stormbird/.local/lib/python3.10/site-packages', '/usr/local/lib/python3.10/dist-packages', '/usr/lib/python3/dist-packages']\n"
     ]
    }
   ],
   "source": [
    "# show python version\n",
    "import sys\n",
    "print(sys.version)\n",
    "\n",
    "# show python path\n",
    "print(sys.path)"
   ]
  },
  {
   "cell_type": "code",
   "execution_count": null,
   "id": "69ec547c",
   "metadata": {},
   "outputs": [],
   "source": [
    "# download and install python packages"
   ]
  },
  {
   "cell_type": "code",
   "execution_count": 2,
   "id": "3b4dfe5b",
   "metadata": {
    "slideshow": {
     "slide_type": "skip"
    }
   },
   "outputs": [],
   "source": [
    "!pip install diffprivlib -q"
   ]
  },
  {
   "cell_type": "code",
   "execution_count": 4,
   "id": "c4c91ef2",
   "metadata": {},
   "outputs": [],
   "source": [
    "!pip install -q numpy pandas matplotlib scikit-learn pandas-profiling phe "
   ]
  },
  {
   "cell_type": "code",
   "execution_count": 2,
   "id": "e8f882aa",
   "metadata": {
    "slideshow": {
     "slide_type": "skip"
    }
   },
   "outputs": [
    {
     "ename": "ModuleNotFoundError",
     "evalue": "No module named 'diffprivlib'",
     "output_type": "error",
     "traceback": [
      "\u001b[0;31m---------------------------------------------------------------------------\u001b[0m",
      "\u001b[0;31mModuleNotFoundError\u001b[0m                       Traceback (most recent call last)",
      "Cell \u001b[0;32mIn[2], line 9\u001b[0m\n\u001b[1;32m      7\u001b[0m \u001b[38;5;28;01mfrom\u001b[39;00m \u001b[38;5;21;01msklearn\u001b[39;00m\u001b[38;5;21;01m.\u001b[39;00m\u001b[38;5;21;01mmodel_selection\u001b[39;00m \u001b[38;5;28;01mimport\u001b[39;00m train_test_split\n\u001b[1;32m      8\u001b[0m \u001b[38;5;28;01mfrom\u001b[39;00m \u001b[38;5;21;01msklearn\u001b[39;00m\u001b[38;5;21;01m.\u001b[39;00m\u001b[38;5;21;01mdecomposition\u001b[39;00m \u001b[38;5;28;01mimport\u001b[39;00m PCA\n\u001b[0;32m----> 9\u001b[0m \u001b[38;5;28;01mfrom\u001b[39;00m \u001b[38;5;21;01mdiffprivlib\u001b[39;00m\u001b[38;5;21;01m.\u001b[39;00m\u001b[38;5;21;01mmodels\u001b[39;00m \u001b[38;5;28;01mimport\u001b[39;00m RandomForestClassifier\n\u001b[1;32m     10\u001b[0m \u001b[38;5;28;01mimport\u001b[39;00m \u001b[38;5;21;01mdiffprivlib\u001b[39;00m \u001b[38;5;28;01mas\u001b[39;00m \u001b[38;5;21;01mdp\u001b[39;00m\n\u001b[1;32m     11\u001b[0m \u001b[38;5;28;01mfrom\u001b[39;00m \u001b[38;5;21;01msklearn\u001b[39;00m\u001b[38;5;21;01m.\u001b[39;00m\u001b[38;5;21;01mmetrics\u001b[39;00m \u001b[38;5;28;01mimport\u001b[39;00m f1_score, classification_report\n",
      "\u001b[0;31mModuleNotFoundError\u001b[0m: No module named 'diffprivlib'"
     ]
    }
   ],
   "source": [
    "import numpy as np\n",
    "import pandas as pd\n",
    "from sklearn.manifold import TSNE\n",
    "import matplotlib.pyplot as plt\n",
    "from pandas.api.types import CategoricalDtype\n",
    "from IPython.display import HTML\n",
    "from sklearn.model_selection import train_test_split\n",
    "from sklearn.decomposition import PCA\n",
    "from diffprivlib.models import RandomForestClassifier\n",
    "import diffprivlib as dp\n",
    "from sklearn.metrics import f1_score, classification_report\n",
    "from IPython.display import Image\n",
    "from IPython.core.display import HTML, Image\n",
    "from IPython.display import IFrame\n",
    "from pandas_profiling import ProfileReport"
   ]
  },
  {
   "cell_type": "code",
   "execution_count": 6,
   "id": "32355121",
   "metadata": {
    "slideshow": {
     "slide_type": "skip"
    }
   },
   "outputs": [],
   "source": [
    "# specify all the datatypes of the dataset\n",
    "dtypes = {\n",
    "    \"County\": object,\n",
    "    \"Gender\": CategoricalDtype(),\n",
    "    \"Martial_status\": \"category\",\n",
    "    \"No_of_dependents\": np.int32,\n",
    "    \"Age\": np.int32,\n",
    "    \"Tier\": CategoricalDtype(categories=[\"Bronze\", \"Silver\", \"Gold\"],\n",
    "                             ordered=True),\n",
    "    \"Policy_limit\": np.float32,\n",
    "    \"Illness_category\": \"category\",\n",
    "    \"Updated_subscription\": object,\n",
    "    \"Updated_subscription\": object,\n",
    "    \"Account_withdrawal\": object,\n",
    "    \"Retention\": np.int32,\n",
    "    \"ID_number\": np.int32,\n",
    "    \"Tax_id\": object\n",
    "}\n",
    "\n",
    "dtypes2 = {\n",
    "    \"Instrument\": object,\n",
    "    \"Reading\": object,\n",
    "    \"Observation\": np.float32,\n",
    "    \"Status\": \"category\"\n",
    "}"
   ]
  },
  {
   "cell_type": "code",
   "execution_count": 7,
   "id": "3400f7da",
   "metadata": {
    "slideshow": {
     "slide_type": "skip"
    }
   },
   "outputs": [],
   "source": [
    "# load all the datasets and specify the arguments to making parsing easier\n",
    "insurance_df = pd.read_csv(\"data/Insurance_data_ke.csv\",\n",
    "                           index_col=\"id\",\n",
    "                           parse_dates=[\"Date_of_entry\"],\n",
    "                           dtype=dtypes)\n",
    "anonymous_df = pd.read_csv(\"data/Insurance_data_ke.csv\", header=None, skiprows=1)\n",
    "spo2_temp_hr_df = pd.read_csv(\"data/Organs.csv\",\n",
    "                              parse_dates=[\"Date\"],\n",
    "                              dtype=dtypes2)"
   ]
  },
  {
   "cell_type": "markdown",
   "id": "b0021020",
   "metadata": {
    "slideshow": {
     "slide_type": "notes"
    }
   },
   "source": [
    "Thank the audience for coming and I will go through it in a breeze. TGIF activities and joining them."
   ]
  },
  {
   "cell_type": "markdown",
   "id": "72859e5c",
   "metadata": {
    "slideshow": {
     "slide_type": "slide"
    }
   },
   "source": [
    "What I'll talk about:\n",
    "* Definitions\n",
    "* Techniques:\n",
    "    * Data Deletion!\n",
    "    * Masking & Sampling \n",
    "    * Privacy Models: K-anonymity, PCA and Differential privacy"
   ]
  },
  {
   "cell_type": "markdown",
   "id": "0ad382c0",
   "metadata": {
    "slideshow": {
     "slide_type": "slide"
    }
   },
   "source": [
    "## Data Privacy\n",
    "\n",
    "[Is the protection of personal data from those who should not have access to it and the ability of individuals to determine who can access their personal information.](https://www.cloudflare.com/en-gb/learning/privacy/what-is-data-privacy/)\n",
    "\n",
    "Authorized, fair, and legitimate processing of personal information. Credit: *Michelle Dennedy, Jonathan Fox, Tom Finneran, The Privacy Engineer’s Manifesto (Apress, 2014), p. 34.*"
   ]
  },
  {
   "cell_type": "markdown",
   "id": "75c9b912",
   "metadata": {
    "slideshow": {
     "slide_type": "slide"
    }
   },
   "source": [
    "<img src=\"https://i.kym-cdn.com/entries/icons/original/000/002/144/You_Shall_Not_Pass!_0-1_screenshot.jpg\" alt=\"Gandalf: the gatekeeper knowyourmeme\" width=500 height=500/>"
   ]
  },
  {
   "cell_type": "markdown",
   "id": "ec9d9b32",
   "metadata": {
    "slideshow": {
     "slide_type": "slide"
    }
   },
   "source": [
    "**Personally identifiable information (PIIs)**\n",
    "\n",
    "**Sensitive PIIs** - info that can be directly linked to a person e.g **biometric data**, **genetic data**, **health status**, **family details**, **National ID number**, **Passport number**, **KRA pin**      \n",
    "\n",
    "**Non-sensitive PIIs**- info can't be directly linked to a person as an example **birthday**, **county of origin**   \n",
    "\n",
    "**Quasi-identifying** - on their own they are not identifying but when combined can be. **Latanya Sweeney** confirmed that combining birth dates, gender and postcodes can be used to identify people in the United States. She also discovered something interesting with her name. Find out. What about Kenya? \n"
   ]
  },
  {
   "cell_type": "markdown",
   "id": "6ffa87f0",
   "metadata": {
    "slideshow": {
     "slide_type": "slide"
    }
   },
   "source": [
    "**Anonymization** \n",
    "\n",
    "Removing PIIs in datasets to keep the individuals Jane/John Does.\n",
    "\n",
    "<img src=\"https://images.unsplash.com/photo-1646106842476-70e9dc6039f4?ixlib=rb-1.2.1&ixid=MnwxMjA3fDB8MHxwaG90by1wYWdlfHx8fGVufDB8fHx8&auto=format&fit=crop&w=1470&q=80\" alt=\"Photo by Markus Winkler\" width=500 height=500/>"
   ]
  },
  {
   "cell_type": "markdown",
   "id": "be6cfc94",
   "metadata": {
    "slideshow": {
     "slide_type": "slide"
    }
   },
   "source": [
    "# Why should we care?\n",
    "\n",
    "<img src=\"https://www.ftc.gov/sites/default/files/u52513/fb-socmed-tw-1200x600-pen.png\" alt=\"Uber, Meta and Equifax fines\" width=500 height=500/>"
   ]
  },
  {
   "cell_type": "markdown",
   "id": "54db874c",
   "metadata": {
    "slideshow": {
     "slide_type": "notes"
    }
   },
   "source": [
    "[Equifax data breach in 2017](https://en.wikipedia.org/wiki/2017_Equifax_data_breach), [British Airways £20m for data breach affecting more than 400,000 customers](https://ico.org.uk/about-the-ico/media-centre/news-and-blogs/2020/10/ico-fines-british-airways-20m-for-data-breach-affecting-more-than-400-000-customers/), [Uber to pay $148 million to settle data breach cover-up with U.S. states](https://www.reuters.com/article/us-uber-databreach-idUSKCN1M62AJ) and [facebook 5 billion dollar penalty](https://www.ftc.gov/news-events/news/press-releases/2019/07/ftc-imposes-5-billion-penalty-sweeping-new-privacy-restrictions-facebook)"
   ]
  },
  {
   "cell_type": "markdown",
   "id": "50864295",
   "metadata": {},
   "source": [
    "[Oppo Kenya was penalized by ODPC for infringing the Data Protection Act, 2019 by publishing unauthorized photographs of data subjects in their promotional materials](https://www.clydeco.com/en/insights/2023/10/data-protection-compliance-in-kenya-odpc) \n",
    "\n",
    "[Kenya's Office of the Data Privacy Commissioner announced three penalties totaling KES9,375,000 for alleged violations of the Data Protection Act. Each penalty concerns claims of nonconsensual uses of personal data. The largest fine was KES4,550,000 to Roma School for posting pictures of minors without parental consent.](https://iapp.org/news/b/kenyas-odpc-issues-kes9-375m-in-data-protection-fines)"
   ]
  },
  {
   "cell_type": "markdown",
   "id": "fec60db6",
   "metadata": {
    "slideshow": {
     "slide_type": "slide"
    }
   },
   "source": [
    "## To comply with the Kenya data protection Act and General Data Protection Regulation."
   ]
  },
  {
   "cell_type": "code",
   "execution_count": 8,
   "id": "a0ef41e5",
   "metadata": {
    "slideshow": {
     "slide_type": "slide"
    }
   },
   "outputs": [
    {
     "data": {
      "text/html": [
       "\n",
       "        <iframe\n",
       "            width=\"350\"\n",
       "            height=\"250\"\n",
       "            src=\"Kenya Data Protection Act - Quick Guide 2021.pdf\"\n",
       "            frameborder=\"0\"\n",
       "            allowfullscreen\n",
       "            \n",
       "        ></iframe>\n",
       "        "
      ],
      "text/plain": [
       "<IPython.lib.display.IFrame at 0x7f417bb3b970>"
      ]
     },
     "execution_count": 8,
     "metadata": {},
     "output_type": "execute_result"
    }
   ],
   "source": [
    "IFrame(\"Kenya Data Protection Act - Quick Guide 2021.pdf\", width=350, height=250)"
   ]
  },
  {
   "cell_type": "markdown",
   "id": "e5be4f97",
   "metadata": {
    "slideshow": {
     "slide_type": "slide"
    }
   },
   "source": [
    "## Data Deletion\n",
    "\n",
    "<img src=\"https://c.tenor.com/En0FRnXFEBsAAAAC/self-destruct-inspector-gadget.gif\" alt=\"GIF by ThisguyFawkes\" width=500 height=500/>"
   ]
  },
  {
   "cell_type": "markdown",
   "id": "3333ae89",
   "metadata": {
    "slideshow": {
     "slide_type": "slide"
    }
   },
   "source": [
    "Plan for it:  \n",
    "* Come up with a data inventory and control access  \n",
    "* Follow that up with a segregation strategy: Operational data (10 months) and archival data (5 years) \n",
    "* Create a Retriever(): Gets all the data regarding a specific client. It's their right.\n",
    "* Create a Destroyer(): Deletes all data regarding a customer from every store e.g database, object storage(object expiration) et cetera\n",
    "* Make a privacy engineering team to handle these."
   ]
  },
  {
   "cell_type": "markdown",
   "id": "1f1c2329",
   "metadata": {
    "slideshow": {
     "slide_type": "slide"
    }
   },
   "source": [
    "<a href=\"https://imgflip.com/i/6so56t\"><img width=250 height=250 src=\"https://i.imgflip.com/6so56t.jpg\" title=\"made at imgflip.com\" /> </a><div><a href=\"https://imgflip.com/memegenerator\">from Imgflip Meme Generator </a></div>"
   ]
  },
  {
   "cell_type": "markdown",
   "id": "8d2daa46",
   "metadata": {
    "slideshow": {
     "slide_type": "slide"
    }
   },
   "source": [
    "Enter the matrix 😎\n",
    "\n",
    "<a href=\"https://imgflip.com/i/6so6pp\"><img width=500 height=500 src=\"https://i.imgflip.com/6so6pp.jpg\" title=\"made at imgflip.com\"/></a><div><a href=\"https://imgflip.com/memegenerator\">from Imgflip Meme Generator</a></div>"
   ]
  },
  {
   "cell_type": "markdown",
   "id": "f7d9c135",
   "metadata": {
    "slideshow": {
     "slide_type": "slide"
    }
   },
   "source": [
    "## Compare Datasets "
   ]
  },
  {
   "cell_type": "markdown",
   "id": "b3c370b2",
   "metadata": {
    "slideshow": {
     "slide_type": "notes"
    }
   },
   "source": [
    "Ask if the data is real in their eyes?"
   ]
  },
  {
   "cell_type": "code",
   "execution_count": 9,
   "id": "58bc4ad0",
   "metadata": {
    "slideshow": {
     "slide_type": "slide"
    }
   },
   "outputs": [
    {
     "name": "stdout",
     "output_type": "stream",
     "text": [
      "<class 'pandas.core.frame.DataFrame'>\n",
      "RangeIndex: 1001 entries, 0 to 1000\n",
      "Data columns (total 13 columns):\n",
      " #   Column  Non-Null Count  Dtype \n",
      "---  ------  --------------  ----- \n",
      " 0   0       1001 non-null   int64 \n",
      " 1   1       1001 non-null   object\n",
      " 2   2       1001 non-null   object\n",
      " 3   3       1001 non-null   object\n",
      " 4   4       1001 non-null   int64 \n",
      " 5   5       1001 non-null   int64 \n",
      " 6   6       1001 non-null   object\n",
      " 7   7       1001 non-null   int64 \n",
      " 8   8       1001 non-null   object\n",
      " 9   9       1001 non-null   object\n",
      " 10  10      1001 non-null   object\n",
      " 11  11      1001 non-null   object\n",
      " 12  12      1001 non-null   int64 \n",
      "dtypes: int64(5), object(8)\n",
      "memory usage: 101.8+ KB\n"
     ]
    }
   ],
   "source": [
    "# a summary of the data\n",
    "anonymous_df.info()"
   ]
  },
  {
   "cell_type": "code",
   "execution_count": 6,
   "id": "dd6f99c6",
   "metadata": {
    "slideshow": {
     "slide_type": "slide"
    }
   },
   "outputs": [
    {
     "data": {
      "text/html": [
       "<div>\n",
       "<style scoped>\n",
       "    .dataframe tbody tr th:only-of-type {\n",
       "        vertical-align: middle;\n",
       "    }\n",
       "\n",
       "    .dataframe tbody tr th {\n",
       "        vertical-align: top;\n",
       "    }\n",
       "\n",
       "    .dataframe thead th {\n",
       "        text-align: right;\n",
       "    }\n",
       "</style>\n",
       "<table border=\"1\" class=\"dataframe\">\n",
       "  <thead>\n",
       "    <tr style=\"text-align: right;\">\n",
       "      <th></th>\n",
       "      <th>0</th>\n",
       "      <th>1</th>\n",
       "      <th>2</th>\n",
       "      <th>3</th>\n",
       "      <th>4</th>\n",
       "      <th>5</th>\n",
       "      <th>6</th>\n",
       "      <th>7</th>\n",
       "      <th>8</th>\n",
       "      <th>9</th>\n",
       "      <th>10</th>\n",
       "      <th>11</th>\n",
       "      <th>12</th>\n",
       "      <th>13</th>\n",
       "      <th>14</th>\n",
       "    </tr>\n",
       "  </thead>\n",
       "  <tbody>\n",
       "    <tr>\n",
       "      <th>0</th>\n",
       "      <td>0</td>\n",
       "      <td>Machakos</td>\n",
       "      <td>Female</td>\n",
       "      <td>Single</td>\n",
       "      <td>2</td>\n",
       "      <td>47</td>\n",
       "      <td>Silver</td>\n",
       "      <td>300000</td>\n",
       "      <td>Chronic</td>\n",
       "      <td>2013-11-14 01:12:01</td>\n",
       "      <td>No</td>\n",
       "      <td>No</td>\n",
       "      <td>14</td>\n",
       "      <td>38074758</td>\n",
       "      <td>N690674664H</td>\n",
       "    </tr>\n",
       "    <tr>\n",
       "      <th>1</th>\n",
       "      <td>1</td>\n",
       "      <td>Kisii</td>\n",
       "      <td>Male</td>\n",
       "      <td>Married</td>\n",
       "      <td>3</td>\n",
       "      <td>39</td>\n",
       "      <td>Silver</td>\n",
       "      <td>300000</td>\n",
       "      <td>Congenital</td>\n",
       "      <td>2015-09-11 02:32:07</td>\n",
       "      <td>Yes</td>\n",
       "      <td>Yes</td>\n",
       "      <td>5</td>\n",
       "      <td>19503833</td>\n",
       "      <td>F384415788F</td>\n",
       "    </tr>\n",
       "    <tr>\n",
       "      <th>2</th>\n",
       "      <td>2</td>\n",
       "      <td>Marsabit</td>\n",
       "      <td>Female</td>\n",
       "      <td>Widowed</td>\n",
       "      <td>3</td>\n",
       "      <td>73</td>\n",
       "      <td>Bronze</td>\n",
       "      <td>500000</td>\n",
       "      <td>Chronic</td>\n",
       "      <td>2000-11-24 04:13:56</td>\n",
       "      <td>Yes</td>\n",
       "      <td>No</td>\n",
       "      <td>2</td>\n",
       "      <td>5985350</td>\n",
       "      <td>B871536581P</td>\n",
       "    </tr>\n",
       "    <tr>\n",
       "      <th>3</th>\n",
       "      <td>3</td>\n",
       "      <td>Kilifi</td>\n",
       "      <td>Male</td>\n",
       "      <td>Separated</td>\n",
       "      <td>4</td>\n",
       "      <td>52</td>\n",
       "      <td>Gold</td>\n",
       "      <td>300000</td>\n",
       "      <td>Congenital</td>\n",
       "      <td>2006-04-06 12:50:18</td>\n",
       "      <td>No</td>\n",
       "      <td>No</td>\n",
       "      <td>19</td>\n",
       "      <td>23029320</td>\n",
       "      <td>P464662008O</td>\n",
       "    </tr>\n",
       "    <tr>\n",
       "      <th>4</th>\n",
       "      <td>4</td>\n",
       "      <td>Marsabit</td>\n",
       "      <td>Female</td>\n",
       "      <td>Married</td>\n",
       "      <td>5</td>\n",
       "      <td>39</td>\n",
       "      <td>Silver</td>\n",
       "      <td>300000</td>\n",
       "      <td>Subacute</td>\n",
       "      <td>2016-12-04 16:49:07</td>\n",
       "      <td>Yes</td>\n",
       "      <td>No</td>\n",
       "      <td>9</td>\n",
       "      <td>22372093</td>\n",
       "      <td>V172966182A</td>\n",
       "    </tr>\n",
       "  </tbody>\n",
       "</table>\n",
       "</div>"
      ],
      "text/plain": [
       "   0         1       2          3   4   5       6       7           8   \\\n",
       "0   0  Machakos  Female     Single   2  47  Silver  300000     Chronic   \n",
       "1   1     Kisii    Male    Married   3  39  Silver  300000  Congenital   \n",
       "2   2  Marsabit  Female    Widowed   3  73  Bronze  500000     Chronic   \n",
       "3   3    Kilifi    Male  Separated   4  52    Gold  300000  Congenital   \n",
       "4   4  Marsabit  Female    Married   5  39  Silver  300000    Subacute   \n",
       "\n",
       "                    9    10   11  12        13           14  \n",
       "0  2013-11-14 01:12:01   No   No  14  38074758  N690674664H  \n",
       "1  2015-09-11 02:32:07  Yes  Yes   5  19503833  F384415788F  \n",
       "2  2000-11-24 04:13:56  Yes   No   2   5985350  B871536581P  \n",
       "3  2006-04-06 12:50:18   No   No  19  23029320  P464662008O  \n",
       "4  2016-12-04 16:49:07  Yes   No   9  22372093  V172966182A  "
      ]
     },
     "execution_count": 6,
     "metadata": {},
     "output_type": "execute_result"
    }
   ],
   "source": [
    "# Masking the data\n",
    "anonymous_df.head()"
   ]
  },
  {
   "cell_type": "markdown",
   "id": "a0b54c40",
   "metadata": {
    "slideshow": {
     "slide_type": "slide"
    }
   },
   "source": [
    "## Masking\n",
    "\n",
    "<a href=\"https://imgflip.com/i/6tzu9y\"><img width=250 height=250 src=\"https://i.imgflip.com/6tzu9y.jpg\" title=\"made at imgflip.com\"/></a><div><a href=\"https://imgflip.com/memegenerator\">from Imgflip Meme Generator</a></div>"
   ]
  },
  {
   "cell_type": "code",
   "execution_count": 10,
   "id": "806587cc",
   "metadata": {
    "slideshow": {
     "slide_type": "slide"
    }
   },
   "outputs": [
    {
     "name": "stdout",
     "output_type": "stream",
     "text": [
      "<class 'pandas.core.frame.DataFrame'>\n",
      "Int64Index: 1001 entries, 0 to 1000\n",
      "Data columns (total 12 columns):\n",
      " #   Column                Non-Null Count  Dtype         \n",
      "---  ------                --------------  -----         \n",
      " 0   County                1001 non-null   object        \n",
      " 1   Gender                1001 non-null   category      \n",
      " 2   Marital_status        1001 non-null   object        \n",
      " 3   No_of_dependents      1001 non-null   int32         \n",
      " 4   Age                   1001 non-null   int32         \n",
      " 5   Tier                  1001 non-null   category      \n",
      " 6   Policy_limit          1001 non-null   float32       \n",
      " 7   Illness_category      1001 non-null   category      \n",
      " 8   Date_of_entry         1001 non-null   datetime64[ns]\n",
      " 9   Updated_subscription  1001 non-null   object        \n",
      " 10  Account_withdrawal    1001 non-null   object        \n",
      " 11  Retention             1001 non-null   int32         \n",
      "dtypes: category(3), datetime64[ns](1), float32(1), int32(3), object(4)\n",
      "memory usage: 65.8+ KB\n"
     ]
    }
   ],
   "source": [
    "insurance_df.info()"
   ]
  },
  {
   "cell_type": "code",
   "execution_count": 3,
   "id": "40621843",
   "metadata": {
    "slideshow": {
     "slide_type": "skip"
    }
   },
   "outputs": [
    {
     "ename": "NameError",
     "evalue": "name 'ProfileReport' is not defined",
     "output_type": "error",
     "traceback": [
      "\u001b[0;31m---------------------------------------------------------------------------\u001b[0m",
      "\u001b[0;31mNameError\u001b[0m                                 Traceback (most recent call last)",
      "Cell \u001b[0;32mIn[3], line 2\u001b[0m\n\u001b[1;32m      1\u001b[0m \u001b[38;5;66;03m# Use pandas profiling for EDA of the dataset\u001b[39;00m\n\u001b[0;32m----> 2\u001b[0m profile \u001b[38;5;241m=\u001b[39m \u001b[43mProfileReport\u001b[49m(insurance_df, title\u001b[38;5;241m=\u001b[39m\u001b[38;5;124m\"\u001b[39m\u001b[38;5;124mPandas Profiling Report of the KE insurance company\u001b[39m\u001b[38;5;124m\"\u001b[39m)\n\u001b[1;32m      3\u001b[0m profile\u001b[38;5;241m.\u001b[39mto_file(\u001b[38;5;124m\"\u001b[39m\u001b[38;5;124minsurance_report.html\u001b[39m\u001b[38;5;124m\"\u001b[39m)\n",
      "\u001b[0;31mNameError\u001b[0m: name 'ProfileReport' is not defined"
     ]
    }
   ],
   "source": [
    "# Use pandas profiling for EDA of the dataset\n",
    "profile = ProfileReport(insurance_df, title=\"Pandas Profiling Report of the KE insurance company\")\n",
    "profile.to_file(\"insurance_report.html\")"
   ]
  },
  {
   "cell_type": "markdown",
   "id": "6d50594e",
   "metadata": {
    "slideshow": {
     "slide_type": "slide"
    }
   },
   "source": [
    "## Switch to HTML report\n",
    "#HTML(filename='insurance_report.html')"
   ]
  },
  {
   "cell_type": "code",
   "execution_count": 14,
   "id": "c6eb4710",
   "metadata": {
    "slideshow": {
     "slide_type": "slide"
    }
   },
   "outputs": [],
   "source": [
    "# remove columns that are very particular\n",
    "#insurance_df = insurance_df.drop([\"ID_number\", \"Tax_id\"], axis=1)"
   ]
  },
  {
   "cell_type": "code",
   "execution_count": 15,
   "id": "d91d245b",
   "metadata": {
    "slideshow": {
     "slide_type": "slide"
    }
   },
   "outputs": [
    {
     "data": {
      "text/plain": [
       "Index(['County', 'Gender', 'Marital_status', 'No_of_dependents', 'Age', 'Tier',\n",
       "       'Policy_limit', 'Illness_category', 'Date_of_entry',\n",
       "       'Updated_subscription', 'Account_withdrawal', 'Retention'],\n",
       "      dtype='object')"
      ]
     },
     "execution_count": 15,
     "metadata": {},
     "output_type": "execute_result"
    }
   ],
   "source": [
    "# see what columns were left\n",
    "insurance_df.columns"
   ]
  },
  {
   "cell_type": "markdown",
   "id": "1e662239",
   "metadata": {
    "slideshow": {
     "slide_type": "slide"
    }
   },
   "source": [
    "## Sampling\n",
    "Taking a subset of the data and calculating a metric on the data for example mean, median, count.\n",
    "<img src=\"https://images.unsplash.com/photo-1636647511603-f46efb36c327?ixlib=rb-1.2.1&ixid=MnwxMjA3fDB8MHxwaG90by1wYWdlfHx8fGVufDB8fHx8&auto=format&fit=crop&w=1103&q=80\" alt=\"Photo by Douglas Fehr\" width=500 height=500/>"
   ]
  },
  {
   "cell_type": "code",
   "execution_count": 16,
   "id": "ec000cea",
   "metadata": {
    "slideshow": {
     "slide_type": "slide"
    }
   },
   "outputs": [],
   "source": [
    "# make a subset of the dataframe\n",
    "insurance_df_sample = insurance_df.sample(n=100)"
   ]
  },
  {
   "cell_type": "code",
   "execution_count": 17,
   "id": "3c141f21",
   "metadata": {
    "slideshow": {
     "slide_type": "slide"
    }
   },
   "outputs": [
    {
     "data": {
      "text/plain": [
       "Separated                 0.375624\n",
       "Single                    0.272727\n",
       "Married                   0.204795\n",
       "Widowed                   0.138861\n",
       "Registered Partnership    0.006993\n",
       "Divorced                  0.000999\n",
       "Name: Marital_status, dtype: float64"
      ]
     },
     "execution_count": 17,
     "metadata": {},
     "output_type": "execute_result"
    }
   ],
   "source": [
    "# finding unique items in the pandas Series and return a probability\n",
    "insurance_df['Marital_status'].value_counts(normalize=True)"
   ]
  },
  {
   "cell_type": "code",
   "execution_count": 18,
   "id": "69defd82",
   "metadata": {
    "slideshow": {
     "slide_type": "slide"
    }
   },
   "outputs": [
    {
     "data": {
      "text/plain": [
       "Separated    0.35\n",
       "Married      0.28\n",
       "Single       0.21\n",
       "Widowed      0.16\n",
       "Name: Marital_status, dtype: float64"
      ]
     },
     "execution_count": 18,
     "metadata": {},
     "output_type": "execute_result"
    }
   ],
   "source": [
    "mar_status_counts = insurance_df_sample['Marital_status'].value_counts(\n",
    "    normalize=True)\n",
    "\n",
    "mar_status_counts"
   ]
  },
  {
   "cell_type": "code",
   "execution_count": 19,
   "id": "f6d3a679",
   "metadata": {
    "slideshow": {
     "slide_type": "slide"
    }
   },
   "outputs": [],
   "source": [
    "# make a non random sample distribution based on the original dataset\n",
    "insurance_df_sample[\"Martial_status\"] = np.random.choice(\n",
    "    mar_status_counts.index,\n",
    "    p=mar_status_counts.values,\n",
    "    size=len(insurance_df_sample))"
   ]
  },
  {
   "cell_type": "code",
   "execution_count": 20,
   "id": "c40dcd12",
   "metadata": {
    "slideshow": {
     "slide_type": "slide"
    }
   },
   "outputs": [
    {
     "data": {
      "text/plain": [
       "Separated    0.38\n",
       "Single       0.22\n",
       "Married      0.21\n",
       "Widowed      0.19\n",
       "Name: Martial_status, dtype: float64"
      ]
     },
     "execution_count": 20,
     "metadata": {},
     "output_type": "execute_result"
    }
   ],
   "source": [
    "insurance_df_sample['Martial_status'].value_counts(normalize=True)"
   ]
  },
  {
   "cell_type": "markdown",
   "id": "49303d8a",
   "metadata": {
    "slideshow": {
     "slide_type": "slide"
    }
   },
   "source": [
    "## K-anonymity\n",
    "\n",
    "Reducing distinction between groups. K groups share properties."
   ]
  },
  {
   "cell_type": "markdown",
   "id": "19707646",
   "metadata": {
    "slideshow": {
     "slide_type": "fragment"
    }
   },
   "source": [
    "<a href=\"https://imgflip.com/i/6ue60m\"><img width=500 height=500 src=\"https://i.imgflip.com/6ue60m.jpg\" title=\"made at imgflip.com\"/></a><div><a href=\"https://imgflip.com/memegenerator\">from Imgflip Meme Generator</a></div>"
   ]
  },
  {
   "cell_type": "code",
   "execution_count": 21,
   "id": "1b791b2b",
   "metadata": {
    "slideshow": {
     "slide_type": "slide"
    }
   },
   "outputs": [
    {
     "data": {
      "text/html": [
       "<div>\n",
       "<style scoped>\n",
       "    .dataframe tbody tr th:only-of-type {\n",
       "        vertical-align: middle;\n",
       "    }\n",
       "\n",
       "    .dataframe tbody tr th {\n",
       "        vertical-align: top;\n",
       "    }\n",
       "\n",
       "    .dataframe thead th {\n",
       "        text-align: right;\n",
       "    }\n",
       "</style>\n",
       "<table border=\"1\" class=\"dataframe\">\n",
       "  <thead>\n",
       "    <tr style=\"text-align: right;\">\n",
       "      <th></th>\n",
       "      <th>Age</th>\n",
       "      <th>Tier</th>\n",
       "      <th>Count</th>\n",
       "    </tr>\n",
       "  </thead>\n",
       "  <tbody>\n",
       "    <tr>\n",
       "      <th>0</th>\n",
       "      <td>30</td>\n",
       "      <td>Bronze</td>\n",
       "      <td>7</td>\n",
       "    </tr>\n",
       "    <tr>\n",
       "      <th>1</th>\n",
       "      <td>30</td>\n",
       "      <td>Silver</td>\n",
       "      <td>4</td>\n",
       "    </tr>\n",
       "    <tr>\n",
       "      <th>2</th>\n",
       "      <td>30</td>\n",
       "      <td>Gold</td>\n",
       "      <td>6</td>\n",
       "    </tr>\n",
       "    <tr>\n",
       "      <th>3</th>\n",
       "      <td>31</td>\n",
       "      <td>Bronze</td>\n",
       "      <td>9</td>\n",
       "    </tr>\n",
       "    <tr>\n",
       "      <th>4</th>\n",
       "      <td>31</td>\n",
       "      <td>Silver</td>\n",
       "      <td>5</td>\n",
       "    </tr>\n",
       "    <tr>\n",
       "      <th>...</th>\n",
       "      <td>...</td>\n",
       "      <td>...</td>\n",
       "      <td>...</td>\n",
       "    </tr>\n",
       "    <tr>\n",
       "      <th>130</th>\n",
       "      <td>73</td>\n",
       "      <td>Silver</td>\n",
       "      <td>3</td>\n",
       "    </tr>\n",
       "    <tr>\n",
       "      <th>131</th>\n",
       "      <td>73</td>\n",
       "      <td>Gold</td>\n",
       "      <td>4</td>\n",
       "    </tr>\n",
       "    <tr>\n",
       "      <th>132</th>\n",
       "      <td>74</td>\n",
       "      <td>Bronze</td>\n",
       "      <td>14</td>\n",
       "    </tr>\n",
       "    <tr>\n",
       "      <th>133</th>\n",
       "      <td>74</td>\n",
       "      <td>Silver</td>\n",
       "      <td>4</td>\n",
       "    </tr>\n",
       "    <tr>\n",
       "      <th>134</th>\n",
       "      <td>74</td>\n",
       "      <td>Gold</td>\n",
       "      <td>4</td>\n",
       "    </tr>\n",
       "  </tbody>\n",
       "</table>\n",
       "<p>135 rows × 3 columns</p>\n",
       "</div>"
      ],
      "text/plain": [
       "     Age    Tier  Count\n",
       "0     30  Bronze      7\n",
       "1     30  Silver      4\n",
       "2     30    Gold      6\n",
       "3     31  Bronze      9\n",
       "4     31  Silver      5\n",
       "..   ...     ...    ...\n",
       "130   73  Silver      3\n",
       "131   73    Gold      4\n",
       "132   74  Bronze     14\n",
       "133   74  Silver      4\n",
       "134   74    Gold      4\n",
       "\n",
       "[135 rows x 3 columns]"
      ]
     },
     "execution_count": 21,
     "metadata": {},
     "output_type": "execute_result"
    }
   ],
   "source": [
    "# arrange dataframe by Age and tier, count instances of both and rename the column\n",
    "insurance_df.groupby([\"Age\", \"Tier\"]).size().reset_index(name=\"Count\")"
   ]
  },
  {
   "cell_type": "code",
   "execution_count": 22,
   "id": "544cb222",
   "metadata": {
    "slideshow": {
     "slide_type": "slide"
    }
   },
   "outputs": [],
   "source": [
    "# binning data into at most 4 intervals\n",
    "insurance_df[\"Age\"] = pd.cut(insurance_df[\"Age\"], bins=4)"
   ]
  },
  {
   "cell_type": "code",
   "execution_count": 23,
   "id": "28036e95",
   "metadata": {
    "slideshow": {
     "slide_type": "slide"
    }
   },
   "outputs": [
    {
     "data": {
      "text/html": [
       "<div>\n",
       "<style scoped>\n",
       "    .dataframe tbody tr th:only-of-type {\n",
       "        vertical-align: middle;\n",
       "    }\n",
       "\n",
       "    .dataframe tbody tr th {\n",
       "        vertical-align: top;\n",
       "    }\n",
       "\n",
       "    .dataframe thead th {\n",
       "        text-align: right;\n",
       "    }\n",
       "</style>\n",
       "<table border=\"1\" class=\"dataframe\">\n",
       "  <thead>\n",
       "    <tr style=\"text-align: right;\">\n",
       "      <th></th>\n",
       "      <th>Age</th>\n",
       "      <th>Tier</th>\n",
       "    </tr>\n",
       "    <tr>\n",
       "      <th>id</th>\n",
       "      <th></th>\n",
       "      <th></th>\n",
       "    </tr>\n",
       "  </thead>\n",
       "  <tbody>\n",
       "    <tr>\n",
       "      <th>0</th>\n",
       "      <td>(41.0, 52.0]</td>\n",
       "      <td>Silver</td>\n",
       "    </tr>\n",
       "    <tr>\n",
       "      <th>1</th>\n",
       "      <td>(29.956, 41.0]</td>\n",
       "      <td>Silver</td>\n",
       "    </tr>\n",
       "    <tr>\n",
       "      <th>2</th>\n",
       "      <td>(63.0, 74.0]</td>\n",
       "      <td>Bronze</td>\n",
       "    </tr>\n",
       "    <tr>\n",
       "      <th>3</th>\n",
       "      <td>(41.0, 52.0]</td>\n",
       "      <td>Gold</td>\n",
       "    </tr>\n",
       "    <tr>\n",
       "      <th>4</th>\n",
       "      <td>(29.956, 41.0]</td>\n",
       "      <td>Silver</td>\n",
       "    </tr>\n",
       "    <tr>\n",
       "      <th>...</th>\n",
       "      <td>...</td>\n",
       "      <td>...</td>\n",
       "    </tr>\n",
       "    <tr>\n",
       "      <th>996</th>\n",
       "      <td>(63.0, 74.0]</td>\n",
       "      <td>Silver</td>\n",
       "    </tr>\n",
       "    <tr>\n",
       "      <th>997</th>\n",
       "      <td>(29.956, 41.0]</td>\n",
       "      <td>Bronze</td>\n",
       "    </tr>\n",
       "    <tr>\n",
       "      <th>998</th>\n",
       "      <td>(52.0, 63.0]</td>\n",
       "      <td>Bronze</td>\n",
       "    </tr>\n",
       "    <tr>\n",
       "      <th>999</th>\n",
       "      <td>(63.0, 74.0]</td>\n",
       "      <td>Gold</td>\n",
       "    </tr>\n",
       "    <tr>\n",
       "      <th>1000</th>\n",
       "      <td>(52.0, 63.0]</td>\n",
       "      <td>Silver</td>\n",
       "    </tr>\n",
       "  </tbody>\n",
       "</table>\n",
       "<p>1001 rows × 2 columns</p>\n",
       "</div>"
      ],
      "text/plain": [
       "                 Age    Tier\n",
       "id                          \n",
       "0       (41.0, 52.0]  Silver\n",
       "1     (29.956, 41.0]  Silver\n",
       "2       (63.0, 74.0]  Bronze\n",
       "3       (41.0, 52.0]    Gold\n",
       "4     (29.956, 41.0]  Silver\n",
       "...              ...     ...\n",
       "996     (63.0, 74.0]  Silver\n",
       "997   (29.956, 41.0]  Bronze\n",
       "998     (52.0, 63.0]  Bronze\n",
       "999     (63.0, 74.0]    Gold\n",
       "1000    (52.0, 63.0]  Silver\n",
       "\n",
       "[1001 rows x 2 columns]"
      ]
     },
     "execution_count": 23,
     "metadata": {},
     "output_type": "execute_result"
    }
   ],
   "source": [
    "# see sample\n",
    "insurance_df[[\"Age\", \"Tier\"]]"
   ]
  },
  {
   "cell_type": "code",
   "execution_count": 24,
   "id": "898a866c",
   "metadata": {
    "slideshow": {
     "slide_type": "slide"
    }
   },
   "outputs": [
    {
     "data": {
      "text/plain": [
       "(29.956, 41.0]    0.262737\n",
       "(52.0, 63.0]      0.258741\n",
       "(41.0, 52.0]      0.252747\n",
       "(63.0, 74.0]      0.225774\n",
       "Name: Age, dtype: float64"
      ]
     },
     "execution_count": 24,
     "metadata": {},
     "output_type": "execute_result"
    }
   ],
   "source": [
    "# redistributes the information\n",
    "insurance_df[\"Age\"].value_counts(normalize=True)"
   ]
  },
  {
   "cell_type": "code",
   "execution_count": 27,
   "id": "bdde471d",
   "metadata": {
    "slideshow": {
     "slide_type": "slide"
    }
   },
   "outputs": [
    {
     "data": {
      "text/html": [
       "<div>\n",
       "<style scoped>\n",
       "    .dataframe tbody tr th:only-of-type {\n",
       "        vertical-align: middle;\n",
       "    }\n",
       "\n",
       "    .dataframe tbody tr th {\n",
       "        vertical-align: top;\n",
       "    }\n",
       "\n",
       "    .dataframe thead th {\n",
       "        text-align: right;\n",
       "    }\n",
       "</style>\n",
       "<table border=\"1\" class=\"dataframe\">\n",
       "  <thead>\n",
       "    <tr style=\"text-align: right;\">\n",
       "      <th></th>\n",
       "      <th>Age</th>\n",
       "      <th>Tier</th>\n",
       "      <th>Count</th>\n",
       "    </tr>\n",
       "  </thead>\n",
       "  <tbody>\n",
       "  </tbody>\n",
       "</table>\n",
       "</div>"
      ],
      "text/plain": [
       "Empty DataFrame\n",
       "Columns: [Age, Tier, Count]\n",
       "Index: []"
      ]
     },
     "execution_count": 27,
     "metadata": {},
     "output_type": "execute_result"
    }
   ],
   "source": [
    "# How many specific groups arise should not be 4\n",
    "k = 4\n",
    "\n",
    "count_groups = insurance_df.groupby([\"Age\",\n",
    "                                     \"Tier\"]).size().reset_index(name=\"Count\")\n",
    "\n",
    "count_groups[count_groups['Count'] < k]"
   ]
  },
  {
   "cell_type": "markdown",
   "id": "ca50bae0",
   "metadata": {
    "slideshow": {
     "slide_type": "slide"
    }
   },
   "source": [
    "## Differential Privacy\n",
    "\n",
    "Adding statistical noise to your work. Governed by an epsilon parameter which is the **privacy budget**. \n"
   ]
  },
  {
   "cell_type": "markdown",
   "id": "2478f0c9",
   "metadata": {
    "slideshow": {
     "slide_type": "fragment"
    }
   },
   "source": [
    "<a href=\"https://imgflip.com/i/6tc4hy\"><img width=500 height=500 src=\"https://i.imgflip.com/6tc4hy.jpg\" title=\"made at imgflip.com\"/></a><div><a href=\"https://imgflip.com/memegenerator\">from Imgflip Meme Generator</a></div>"
   ]
  },
  {
   "cell_type": "markdown",
   "id": "a026f539",
   "metadata": {
    "slideshow": {
     "slide_type": "notes"
    }
   },
   "source": [
    "Would you want someone knowing that you have Diabetes insipidus or what is the staple food in Kenya? Low values give less accurate data whereas high values give the most accurate data. How you can add noise resample your data and decide to remove outliers or just multiple the same outlier with a random number maybe sampled from a normal distribution."
   ]
  },
  {
   "cell_type": "code",
   "execution_count": 28,
   "id": "7d992641",
   "metadata": {
    "slideshow": {
     "slide_type": "slide"
    }
   },
   "outputs": [
    {
     "name": "stdout",
     "output_type": "stream",
     "text": [
      "[6 9 6 1 1 2 8 7 3 5]\n",
      "Then mean of your array is 4.6072488508630265 ,Using the normal mean function {4.8}\n",
      "Budget so far  (epsilon=1.1102230246251565e-16, delta=1.0)\n"
     ]
    }
   ],
   "source": [
    "# make 10 random numbers\n",
    "np.random.seed(1)\n",
    "X = np.random.randint(1, 10, size=10, dtype=np.int32)\n",
    "\n",
    "# specify budget accountant, adjust value to be 10 and see the difference\n",
    "acc = dp.BudgetAccountant(epsilon=1.0)\n",
    "\n",
    "# find the mean\n",
    "print(X)\n",
    "print(f\"Then mean of your array is\",\n",
    "      dp.tools.mean(X, bounds=(1, 9), accountant=acc),\n",
    "      \",Using the normal mean function\", {np.mean(X)})\n",
    "print(\"Budget so far \", acc.remaining())  # how much you have spen"
   ]
  },
  {
   "cell_type": "code",
   "execution_count": 22,
   "id": "72e48678",
   "metadata": {
    "slideshow": {
     "slide_type": "slide"
    }
   },
   "outputs": [],
   "source": [
    "# Add this example if someone says they don't get it\n",
    "# multiply 2 numbers with a random number sampled from a normal distribution & then do a mean\n",
    "#X[1] = X[1] * np.random.normal()\n",
    "#X[9] = X[9] * np.random.normal()\n",
    "\n",
    "# multiply each number with a number sampled from the normal distribution & then do a mean\n",
    "# X * np.random.normal() # add noise\n",
    "# X = np.delete(X, [9, 1], 0) # remove the smallest and largest numbers & then do a mean\n",
    "# np.mean(X)"
   ]
  },
  {
   "cell_type": "code",
   "execution_count": 23,
   "id": "b6b10c6c",
   "metadata": {
    "slideshow": {
     "slide_type": "slide"
    }
   },
   "outputs": [],
   "source": [
    "# run it again, should not work\n",
    "#print(f\"Then mean of your array is\",\n",
    "#      {dp.tools.mean(X, bounds=(1, 8), accountant=acc)},\n",
    "#      \"Using the normal mean function\", {np.mean(X)})\n",
    "#print(\"Budget so far \", acc.remaining())"
   ]
  },
  {
   "cell_type": "code",
   "execution_count": 29,
   "id": "93a898e2",
   "metadata": {
    "slideshow": {
     "slide_type": "slide"
    }
   },
   "outputs": [],
   "source": [
    "# load dataset into memory\n",
    "feat_eng_df = pd.read_csv(\"data/feature_engineered_insurance.csv\")"
   ]
  },
  {
   "cell_type": "code",
   "execution_count": 30,
   "id": "2b8b44e8",
   "metadata": {
    "slideshow": {
     "slide_type": "slide"
    }
   },
   "outputs": [
    {
     "data": {
      "text/plain": [
       "Index(['No_of_dependents', 'Age', 'Policy_limit', 'Retention',\n",
       "       'Date_of_entryYear', 'Date_of_entryMonth', 'Date_of_entryWeek',\n",
       "       'Date_of_entryDay', 'Date_of_entryDayofweek', 'Date_of_entryDayofyear',\n",
       "       'Account_withdrawal=No', 'Account_withdrawal=Yes', 'County=Baringo',\n",
       "       'County=Bomet', 'County=Bungoma', 'County=Busia',\n",
       "       'County=Elgeyo-Marakwet', 'County=Embu', 'County=Garissa',\n",
       "       'County=Homa Bay', 'County=Isiolo', 'County=Kajiado', 'County=Kakamega',\n",
       "       'County=Kericho', 'County=Kiambu', 'County=Kilifi', 'County=Kirinyaga',\n",
       "       'County=Kisii', 'County=Kisumu', 'County=Kitui', 'County=Kwale',\n",
       "       'County=Laikipia', 'County=Lamu', 'County=Machakos', 'County=Makueni',\n",
       "       'County=Mandera', 'County=Marsabit', 'County=Meru', 'County=Migori',\n",
       "       'County=Mombasa (County)', 'County=Murang'a', 'County=Nairobi (County)',\n",
       "       'County=Nakuru', 'County=Nandi', 'County=Narok', 'County=Nyamira',\n",
       "       'County=Nyandarua', 'County=Nyeri', 'County=Samburu', 'County=Siaya',\n",
       "       'County=Tana River', 'County=Tharaka-Nithi', 'County=Trans-Nzoia',\n",
       "       'County=Turkana', 'County=Uasin Gishu', 'County=Vihiga', 'County=Wajir',\n",
       "       'County=West Pokot', 'Date_of_entryIs_month_end',\n",
       "       'Date_of_entryIs_month_start', 'Date_of_entryIs_quarter_end',\n",
       "       'Date_of_entryIs_quarter_start', 'Date_of_entryIs_year_end',\n",
       "       'Date_of_entryIs_year_start', 'Gender=Female', 'Gender=Male',\n",
       "       'Illness_category=Acute', 'Illness_category=Chronic',\n",
       "       'Illness_category=Coegnital', 'Illness_category=Subacute',\n",
       "       'Marital_status=Divorced', 'Marital_status=Married',\n",
       "       'Marital_status=Registered Partnership', 'Marital_status=Separated',\n",
       "       'Marital_status=Single', 'Marital_status=Widowed', 'Tier=Bronze',\n",
       "       'Tier=Gold', 'Tier=Silver', 'Updated_subscription=No',\n",
       "       'Updated_subscription=Yes', 'id'],\n",
       "      dtype='object')"
      ]
     },
     "execution_count": 30,
     "metadata": {},
     "output_type": "execute_result"
    }
   ],
   "source": [
    "feat_eng_df.columns"
   ]
  },
  {
   "cell_type": "code",
   "execution_count": 31,
   "id": "84ce8cc7",
   "metadata": {
    "slideshow": {
     "slide_type": "slide"
    }
   },
   "outputs": [
    {
     "data": {
      "text/plain": [
       "array([0, 1, 0, ..., 0, 1, 1])"
      ]
     },
     "execution_count": 31,
     "metadata": {},
     "output_type": "execute_result"
    }
   ],
   "source": [
    "# preparing the matrix and the vector\n",
    "# Dependent variable/predictors: X and independent variable/Target: If the client is going to stopped using the service\n",
    "feat_eng_df2 = feat_eng_df.drop([\"id\"], axis=1)\n",
    "x = feat_eng_df2.to_numpy()\n",
    "y = np.random.choice([0, 1], p=[0.50, 0.50],\n",
    "                     size=len(feat_eng_df)) \n",
    "y"
   ]
  },
  {
   "cell_type": "code",
   "execution_count": 32,
   "id": "4f41aa74",
   "metadata": {
    "slideshow": {
     "slide_type": "slide"
    }
   },
   "outputs": [
    {
     "data": {
      "text/plain": [
       "(1001, 81)"
      ]
     },
     "execution_count": 32,
     "metadata": {},
     "output_type": "execute_result"
    }
   ],
   "source": [
    "# Review the sample of array\n",
    "x.shape"
   ]
  },
  {
   "cell_type": "code",
   "execution_count": 33,
   "id": "643ba958",
   "metadata": {
    "slideshow": {
     "slide_type": "slide"
    }
   },
   "outputs": [
    {
     "data": {
      "text/plain": [
       "(1001,)"
      ]
     },
     "execution_count": 33,
     "metadata": {},
     "output_type": "execute_result"
    }
   ],
   "source": [
    "y.shape"
   ]
  },
  {
   "cell_type": "code",
   "execution_count": 34,
   "id": "7cfc5a97",
   "metadata": {
    "slideshow": {
     "slide_type": "slide"
    }
   },
   "outputs": [],
   "source": [
    "# model validation strategy: Train test split\n",
    "features_train, features_validation_test, labels_train, labels_validation_test = train_test_split(\n",
    "    x, y, test_size=0.4, random_state=100)\n",
    "features_validation, features_test, labels_validation, labels_test = train_test_split(\n",
    "    features_validation_test,\n",
    "    labels_validation_test,\n",
    "    test_size=0.6,\n",
    "    random_state=100)"
   ]
  },
  {
   "cell_type": "code",
   "execution_count": 35,
   "id": "064a2246",
   "metadata": {
    "scrolled": false,
    "slideshow": {
     "slide_type": "slide"
    }
   },
   "outputs": [
    {
     "name": "stderr",
     "output_type": "stream",
     "text": [
      "/home/bens/anaconda3/envs/data-privacy-env/lib/python3.9/site-packages/diffprivlib/models/forest.py:188: PrivacyLeakWarning: `feature_domains` parameter hasn't been specified, so falling back to determining domains from the data.\n",
      "This may result in additional privacy leakage. To ensure differential privacy with no additional privacy loss, specify `feature_domains` according to the documentation\n",
      "  warnings.warn(\n",
      "[Parallel(n_jobs=-1)]: Using backend LokyBackend with 4 concurrent workers.\n"
     ]
    },
    {
     "name": "stderr",
     "output_type": "stream",
     "text": [
      "[Parallel(n_jobs=-1)]: Done  10 out of  10 | elapsed:  5.7min finished\n",
      "[Parallel(n_jobs=4)]: Using backend ThreadingBackend with 4 concurrent workers.\n"
     ]
    },
    {
     "name": "stdout",
     "output_type": "stream",
     "text": [
      "              precision    recall  f1-score   support\n",
      "\n",
      "           0       0.52      0.74      0.61       198\n",
      "           1       0.57      0.33      0.42       203\n",
      "\n",
      "    accuracy                           0.53       401\n",
      "   macro avg       0.54      0.54      0.51       401\n",
      "weighted avg       0.54      0.53      0.51       401\n",
      "\n"
     ]
    },
    {
     "name": "stderr",
     "output_type": "stream",
     "text": [
      "[Parallel(n_jobs=4)]: Done  10 out of  10 | elapsed:    0.7s finished\n"
     ]
    }
   ],
   "source": [
    "# Specify, fit, Predict paradigm\n",
    "clf = RandomForestClassifier(n_jobs=-1, epsilon=0.5, random_state=345, verbose=1, class_weight="balanced")\n",
    "\n",
    "clf.fit(features_train, labels_train)\n",
    "\n",
    "preds = clf.predict(features_validation_test)\n",
    "\n",
    "report = classification_report(labels_validation_test, preds)\n",
    "print(report)"
   ]
  },
  {
   "cell_type": "markdown",
   "id": "217ccc97",
   "metadata": {
    "slideshow": {
     "slide_type": "notes"
    }
   },
   "source": [
    "Random Forest is a machine learning algorithm which uses a couple of DecisionTrees on random subsets of the data. Among all the features in the data, picks the one that best divides the labels. \n",
    "\n",
    "Precision goal is to limit the number of false positives, Recall/Sensitivity how many of the positive points were correctly predicted by the model. Limit the number of false negatives and F1 score combines recall and the precision."
   ]
  },
  {
   "cell_type": "markdown",
   "id": "d732f994",
   "metadata": {
    "slideshow": {
     "slide_type": "slide"
    }
   },
   "source": [
    "Use the newer version of diffprivlib to tune it better. Try running getting a model without using diffprivlib."
   ]
  },
  {
   "cell_type": "markdown",
   "id": "57319d78",
   "metadata": {
    "slideshow": {
     "slide_type": "slide"
    }
   },
   "source": [
    "## PCA\n",
    "\n",
    "Principal component Analysis. Very pervasive technique to reduce the dimensions of any dataset and still retaining the properties of the data. You can also use it for data compression."
   ]
  },
  {
   "cell_type": "code",
   "execution_count": 37,
   "id": "1b66e468",
   "metadata": {
    "slideshow": {
     "slide_type": "slide"
    }
   },
   "outputs": [
    {
     "data": {
      "image/png": "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",
      "text/plain": [
       "<IPython.core.display.Image object>"
      ]
     },
     "execution_count": 37,
     "metadata": {
      "image/png": {
       "height": 500,
       "width": 500
      }
     },
     "output_type": "execute_result"
    }
   ],
   "source": [
    "#PATH = \"~/Desktop/data_privacy_013/\"\n",
    "Image(\"Screenshot from 2022-09-10 07-03-38.png\",\n",
    "      width=500,\n",
    "      height=500)"
   ]
  },
  {
   "cell_type": "code",
   "execution_count": 38,
   "id": "c28d5358",
   "metadata": {
    "slideshow": {
     "slide_type": "slide"
    }
   },
   "outputs": [],
   "source": [
    "def dim_reduction(data):\n",
    "    pca = PCA(n_components=2)\n",
    "    return pca.fit_transform(data)"
   ]
  },
  {
   "cell_type": "code",
   "execution_count": 39,
   "id": "f337b132",
   "metadata": {
    "slideshow": {
     "slide_type": "slide"
    }
   },
   "outputs": [
    {
     "data": {
      "text/plain": [
       "Index                        128\n",
       "No_of_dependents            8008\n",
       "Age                         8008\n",
       "Policy_limit                8008\n",
       "Retention                   8008\n",
       "                            ... \n",
       "Tier=Bronze                 8008\n",
       "Tier=Gold                   8008\n",
       "Tier=Silver                 8008\n",
       "Updated_subscription=No     8008\n",
       "Updated_subscription=Yes    8008\n",
       "Length: 82, dtype: int64"
      ]
     },
     "execution_count": 39,
     "metadata": {},
     "output_type": "execute_result"
    }
   ],
   "source": [
    "# check how much memory in bytes your columns are using\n",
    "feat_eng_df2.memory_usage()"
   ]
  },
  {
   "cell_type": "code",
   "execution_count": 40,
   "id": "7ea06551",
   "metadata": {
    "slideshow": {
     "slide_type": "slide"
    }
   },
   "outputs": [],
   "source": [
    "# apply pca\n",
    "pca_mat = dim_reduction(feat_eng_df2)"
   ]
  },
  {
   "cell_type": "code",
   "execution_count": 41,
   "id": "7a2a23d7",
   "metadata": {
    "slideshow": {
     "slide_type": "slide"
    }
   },
   "outputs": [],
   "source": [
    "# change the resultant matrix to a dataframe\n",
    "pca_df = pd.DataFrame(pca_mat)"
   ]
  },
  {
   "cell_type": "code",
   "execution_count": 42,
   "id": "86105105",
   "metadata": {
    "slideshow": {
     "slide_type": "slide"
    }
   },
   "outputs": [
    {
     "data": {
      "text/plain": [
       "Index     128\n",
       "0        8008\n",
       "1        8008\n",
       "dtype: int64"
      ]
     },
     "execution_count": 42,
     "metadata": {},
     "output_type": "execute_result"
    }
   ],
   "source": [
    "pca_df.memory_usage()"
   ]
  },
  {
   "cell_type": "markdown",
   "id": "01852416",
   "metadata": {},
   "source": [
    "Moved from 82 columns to 2. Notice: the number of bytes in the column resembles that of the original column entries."
   ]
  },
  {
   "cell_type": "markdown",
   "id": "c14c5fdd",
   "metadata": {},
   "source": [
    "## Embeddings"
   ]
  },
  {
   "cell_type": "markdown",
   "id": "9ebe2c91",
   "metadata": {},
   "source": [
    "Embeddings are a way to represent data in a lower dimension. They consist of a vector of numbers that represent the data. They are used in Natural Language Processing, Computer Vision and Recommendation Systems. They are commonly used in the transformer architecture. To get a representation of data.\n",
    "\n",
    "Examples include Word2Vec, GloVe, and FastText. We'll use numpy to create embeddings for our data. Then use T-SNE to visualize the embeddings. It keep things that are close in high dimensions close in 2D or 3D as well."
   ]
  },
  {
   "cell_type": "code",
   "execution_count": 43,
   "id": "b214c6a2",
   "metadata": {
    "slideshow": {
     "slide_type": "slide"
    }
   },
   "outputs": [
    {
     "name": "stdout",
     "output_type": "stream",
     "text": [
      "Encoded Gender: [0.11183795 0.4517675  0.33624615]\n",
      "Encoded Occupation: [0.0153379  0.36029145 0.26005155]\n",
      "Encoded Education Level: [0.53302015 0.86031051 0.83079   ]\n"
     ]
    }
   ],
   "source": [
    "# Define the categorical variables\n",
    "# NB: The order of the categories is important for the embeddings and the duplicate values are intentional\n",
    "gender = np.array(['Male', 'Female', 'Male', 'Female'])\n",
    "occupation = np.array(['Engineer', 'Doctor', 'Teacher', 'Engineer'])\n",
    "education_level = np.array(['Bachelor', 'Doctorate', 'Masters', 'Bachelor'])\n",
    "\n",
    "# The dimensionality of the embedding vectors\n",
    "embedding_dim = 3  \n",
    "\n",
    "# Function to generate random embeddings\n",
    "def generate_embeddings(categories:str, embedding_dim:int):\n",
    "    \"\"\"\n",
    "    Generate random embeddings for categorical variables.\n",
    "\n",
    "    Parameters\n",
    "    ----------\n",
    "    categories : str\n",
    "        Array of categorical variables.\n",
    "    embedding_dim : int\n",
    "        The dimensionality of the embedding vectors.\n",
    "\n",
    "    Returns\n",
    "    -------\n",
    "    dict\n",
    "        A dictionary where the keys are the unique categories from the input \n",
    "        and the values are the corresponding embeddings.\n",
    "\n",
    "    Example\n",
    "    -------\n",
    "    >>> categories = np.array(['Male', 'Female'])\n",
    "    >>> embedding_dim = 3\n",
    "    >>> embeddings = generate_embeddings(categories, embedding_dim)\n",
    "    >>> print(embeddings)\n",
    "    {'Male': array([0.1, 0.2, 0.3]), 'Female': array([0.4, 0.5, 0.6])}\n",
    "    \"\"\"\n",
    "    category_embeddings = {}\n",
    "    for category in np.unique(categories):\n",
    "        category_embeddings[category] = np.random.rand(embedding_dim)\n",
    "    return category_embeddings\n",
    "\n",
    "# Create embeddings for the categorical variables\n",
    "gender_embedding = generate_embeddings(gender, embedding_dim)\n",
    "occupation_embedding = generate_embeddings(occupation, embedding_dim)\n",
    "education_embedding = generate_embeddings(education_level, embedding_dim)\n",
    "\n",
    "# Encode the categorical variables using embeddings\n",
    "# Find the category in the dictionary and use it to get the corresponding embedding\n",
    "encoded_gender = gender_embedding[gender[0]]\n",
    "encoded_occupation = occupation_embedding[occupation[0]]\n",
    "encoded_education_level = education_embedding[education_level[0]]\n",
    "\n",
    "# Combine all embeddings into a single array for t-SNE\n",
    "embeddings = np.array(list(gender_embedding.values()) + list(occupation_embedding.values()) + list(education_embedding.values()))\n",
    "\n",
    "# Print the encoded values\n",
    "print(\"Encoded Gender:\", encoded_gender)\n",
    "print(\"Encoded Occupation:\", encoded_occupation)\n",
    "print(\"Encoded Education Level:\", encoded_education_level)"
   ]
  },
  {
   "cell_type": "markdown",
   "id": "a07f8b0d",
   "metadata": {},
   "source": [
    "This is how we can use embeddings to represent data in a numerical form. Besides, without the labels, we don't know what the data is about. You can use this to cluster the data and see if you can get some insights from it. Let's try to cluster the data and see if we can get some insights from it."
   ]
  },
  {
   "cell_type": "code",
   "execution_count": 44,
   "id": "69d8be76",
   "metadata": {},
   "outputs": [
    {
     "name": "stderr",
     "output_type": "stream",
     "text": [
      "/home/bens/anaconda3/envs/data-privacy-env/lib/python3.9/site-packages/sklearn/manifold/_t_sne.py:780: FutureWarning: The default initialization in TSNE will change from 'random' to 'pca' in 1.2.\n",
      "  warnings.warn(\n",
      "/home/bens/anaconda3/envs/data-privacy-env/lib/python3.9/site-packages/sklearn/manifold/_t_sne.py:790: FutureWarning: The default learning rate in TSNE will change from 200.0 to 'auto' in 1.2.\n",
      "  warnings.warn(\n"
     ]
    },
    {
     "data": {
      "image/png": "iVBORw0KGgoAAAANSUhEUgAAAnwAAAHwCAYAAAA8d7JoAAAAOXRFWHRTb2Z0d2FyZQBNYXRwbG90bGliIHZlcnNpb24zLjUuMSwgaHR0cHM6Ly9tYXRwbG90bGliLm9yZy/YYfK9AAAACXBIWXMAAAsTAAALEwEAmpwYAABHG0lEQVR4nO3daZgV1bm38fthUCQCoqhRsQFFQRkEaVEQpBkcjgNGI+pJG0VRgolmMGr0xYmckGhM0DhEg5o4gNNxikM0joiKCYKiiNNBbQQ1ipg4IQj0ej/som2wgQa6abq4f9e1L/ZeVbX2s6to+s9aVbUjpYQkSZLyq0FdFyBJkqTaZeCTJEnKOQOfJElSzhn4JEmScs7AJ0mSlHMGPkmSpJwz8EkbgIj4PCJ2qMX+20ZEiohG2esHI+K4WnifGRFRUtP9ruI9IyL+EhH/jojJ6/K9V1BPioj2dV3H6oiICyJiXA31VRIRc1ay/PqI+FX2vG9EvF4T7yvVdwY+aTVFRFlEDFrFOp0i4uEsJPwnIqZGxIHZspLsl/aVy23zdEQMzZ4PjYglWVCr/Ni2ivd6LSJOqKL9JxExBSCltGlK6a21+NirJaX0XymlG9amj8q/uCv12ymlNGGtilt9fYB9gdYppZ7LL1zuWH0aES9GxMHruMYaFxETImLBcn//7qvrulZHSumplFKHuq5DWh8Y+KTacR/wCLA1sBXwY+DTSsu/AI6NiLYr6ePZLKhVfrxXxXo3AMdW0f79bJnWThugLKX0xUrWeTaltCmwGfBH4NaI2Gwd1FbbTlnu798hdV2QpDVj4JNWQ0TcBBQB92UjHmdWsU4roB1wTUrpq+zxTErp6Uqr/Qe4Hji/Bsq6CegTEW0q1bAL0BW4JXtdMQ0YEQdGxCsR8VlEvBsRp2ftQyOico3Lb3dQRLyQjWLNjogLVlRQNjp0Yvb8xeVGidLSadmI+N+I+FdEfBIREyOiU9Y+HCgFzqw8slR5dDUiNo6ISyPivexxaURsnC0riYg5EfHziPgwIt6PiONXUu+2EXFvRHwcETMj4qSsfRhwLdArq2PUyg5ESqk8Ox7fAnbK+tgxIh6PiHkR8VFEjK8cBrPPdHpEvJTth9siokml5Wdk9b+3/EhuRLSIiBsjYm5EzIqIcyKiQbZsaEQ8ExGXZKPMb0VE76x9drZf1mjavdL+PbPS/v1O9nfrjWw//r/lNmuSfbbPIuL5iNitUn/bRsSd2ed4OyJ+XGnZJlEY7f13RLwC7LFcLd2z/j6LiNuAyvtumenfauzrMyvt6xOjGj83Un1h4JNWQ0rp+8A7wCHZiMdvq1htHjATGJf9Etx6Bd2NBr4bEWs15ZRSmgM8QWFEb6ljgb+llD6qYpPrgB+klJoBnYHHq/lWX2T9bgYcBJwcEd+pRn27LR0hAk4DXgeezxY/SCEYbZW1jc+2GZs9/+1KRpZGAnsB3YDdgJ7AOZWWfxtoAWwHDAOujIiWKyjzFmAOsC1wBPDriBiYUroOGMHXo60rDegR0RA4HlgEzFraDPwm63sXYHvgguU2PRI4gMJ/FLoCQ7P+DgBOpzClvBOw/KkEl2efcQegH4XjUznY7gm8BGwB3AzcSiEwtQeOAa6IiE1X9plW4tsUwtV2wHnANVmfPYC+wHmx7HmjhwL/C2ye1XJPRDTOAup9wItZXwOBn0bE/tl25wM7Zo/9gYqQGhEbAfdQCNmbZ/1/dxV1r2xfn0ZhH7ensD8rW9OfG2m9YOCTalgqfEF1f6AM+D3wfjZ6tdNy6/0LuBr45Qq62isbmVn6eHMlb3sDWeDLfoGWsuLp3EXArhHRPKX075TS8ytYb/nPNSGlND2lVJ5SeolCSFr+l+IKRUQf4FfA4JTSp1mff04pfZZSWkghBO0WES2q2WUp8MuU0ocppbnAKJYNvYuy5YtSSn8DPge+Ea4jYnsK5+n9IqW0IKU0jcKo3veXX3cl9oqI/wALgN8Bx6SUPsw+48yU0iMppYVZnWP45n67LKX0XkrpYwrhp1vWfiTwl5TSy9mU8gWV6m4IHAWcne3DMgp/3yrX/XZK6S8ppSXAbRTC5i+zWh4GvqIQblbksuX+Dv5PpWWLgNEppUUUgmQr4A9ZLTOAGRQC1VJTU0p3ZOuPoRAW96IQQLdMKf0yGw1/i0J4PLrSPhidUvo4pTQbuKxSn3sBjYFLs+N8B/DcSj4PrHpfz0gpzafw96myNfq5kdYXBj5pLUXE1fH1dOX/g8KoW0rplJTSjhTOAfsCuLGKzS8C9q88vVXJP1JKm1V67LiSMu4CtomIvYASoCnwwArW/S5wIDArIp6MiF7V/Jx7RsQT2bTbJxRGvlpVc9vtgduB41JKb2RtDSPiwoh4MyI+pRCQqW6fFEbMZlV6PStrW2peSmlxpdfzgapGs7YFPk4pfbZcX9tVsw7IjhXQEriXwggXABGxVUTcmk0DfgqM45uf8V8rqHNbYPZydS3VCtiIb+6DynV/UOn5lwAppeXbVjbC9+Pl/g6eW2nZvCxIVvRdxftV7rvic2RT30tHVNsA21YOlsD/o3D+K6x8H2wLvJv9J6uq5VWp7r6u/BzW8OdGWl8Y+KTVl5Z5kdKISie1//obKxdGJa6kMA20/LJ5wKXA/yy/bLUKKoxI3EFhSu/7wK0ppa9WsO5zKaVDKUyj3kMhiEEhlDZdul5EfHu5TW+mEGa2Tym1oDA6GauqLSI2yd7n0pTSg5UWfY/CNN8gCtOSbZdusrTUVXT9HoWwsFRR1ra63gM2j4hmy/X17up2lFL6HPgh8P2I6J41/4bCZ+maUmpOYdpzlfst8z6FUbnKdS31EYVRp+X3wWrXvY5UfI5sFLo1hX0/m8JIZOVg2SyldGC2+sr2wfvAdhERK1i+Ot7PavpGvbDSnxupXjDwSavvAwrnTFUpIlpGxKiIaB8RDaJwEccJwD9WsMkYoDeF87vWxg0Upvi+ywqmcyNio4gojYgW2dTap8DSUZoXgU4R0S07kf2C5TZvRmEkbEFE9KQQ2Krjz8BrVZzv2AxYSOGcx6bA8mF5pfuZwpTyORGxZbaPz6MwerZaskA+CfhNRDSJiK4Uzvkbv7p9Zf3NozAlfF7W1IzCdPJ/ImI74IzV6O52YGhE7BoRTal0kU82unY7MDoimkXhop3TWIN9sI70iIjDo3Cvxp9SOPb/ACYDn0bEL7ILNBpGROeIWHpxxu3A2dnPVWvg1Ep9PgssBn4cEY0i4nAK53KuiduB4yNil2xfLz1+q/q5keoFA5+0+n5DIWj8ZwVX6n1FYbTqUQq/GF6m8MttaFWdZeez/ZbCSeeVLb0ytPJjjyq6WGoi8AmFKa6Vncf0faAsm14cQWHEiWyq9ZdZ3f8HPL3cdj8EfhkRn1H4ZVjdEY6jgcOW+xx9KUxxz6IwIvUK3wzE11E4Z+o/EXFPFf3+CphC4aKE6RQu+vhVFetVx39TOGbvAXcD56eUHlnDvqAwantgFh5HAbtTODYPUJh+r5ZsRPRSChcIzOSbFwqcSmFk9i0Kx+tmCgG7plyx3HGbuhZ9/ZXCf0j+TeHv4OHZeXdLgEMonEv3NoWRy2spjPpCYf/NypY9TOECDQCyUezDKfxs/Tvrv9r7t7JsX19G4QKomRTCJBR+dmEFPzdSfRHLnvogSZKicGujl4GNlzsXVKqXHOGTJAmIiMOy6duWFC6ous+wp7ww8EmSVPADYC7wJoVz9E6u23KkmuOUriRJUs45widJkpRzBj5JkqSca1TXBdS2Vq1apbZt29Z1GZIkSas0derUj1JKW9Z0v7kPfG3btmXKlCl1XYYkSdIqRcSqvh5wjTilK0mSlHMGPkmSpJwz8EmSJOVc7s/hq8qiRYuYM2cOCxYsqOtScq9Jkya0bt2axo0b13UpkiRtsDbIwDdnzhyaNWtG27ZtiYi6Lie3UkrMmzePOXPm0K5du7ouR5KkDdYGOaW7YMECtthiC8NeLYsItthiC0dSJUmqYxtk4AMMe+uI+1mSpLq3wQa+uvbBBx/wve99jx122IEePXrQq1cv7r777rXud8KECRx88ME1UKEkScoLA18dSCnxne98h3322Ye33nqLqVOncuuttzJnzpx1XsvixYvX+XtKkqR1y8BXHePHQ9u20KBB4c/x49equ8cff5yNNtqIESNGVLS1adOGU089lSVLlnDGGWewxx570LVrV/70pz8BhZG7kpISjjjiCDp27EhpaSkpJQAeeughOnbsSJ8+fbjrrrsq+vziiy844YQT2GOPPejevTt//etfAbj++usZMmQIhxxyCPvtt99afRZJkrT+2yCv0l0t48fD8OEwf37h9axZhdcApaVr1OWMGTPYfffdq1x23XXX0aJFC5577jkWLlzI3nvvXRHKXnjhBWbMmMG2227L3nvvzTPPPENxcTEnnXQSjz/+OO3bt+eoo46q6Gv06NEMGDCAP//5z/znP/+hZ8+eDBo0CIBnn32Wl156ic0333yNPoMkSao/HOFblZEjvw57S82fX2ivIT/60Y/Ybbfd2GOPPXj44Ye58cYb6datG3vuuSfz5s3j//7v/wDo2bMnrVu3pkGDBnTr1o2ysjJee+012rVrx0477UREcMwxx1T0+/DDD3PhhRfSrVs3SkpKWLBgAe+88w4A++67r2FP0gavrKyMli1bUlJSQklJCRdffHGN9j906FCefvrpGu1TWhOO8K1KFpCq3V4NnTp14s4776x4feWVV/LRRx9RXFxMUVERl19+Ofvvv/8y20yYMIGNN9644nXDhg0rzr9b0ZWwKSXuvPNOOnTosEz7P//5T771rW+tcf2SlCc9evTg0UcfresypFrlCN+qFBWtXns1DBgwgAULFnDVVVdVtM3PRhH3339/rrrqKhYtWgTAG2+8wRdffLHCvjp27Mjbb7/Nm2++CcAtt9xSsWz//ffn8ssvrzjX74UXXljjmiVpQzB79mwOOuggBgwYwEEHHcTcuXMBaN++Peeeey69evXijDPOYPTo0eyzzz4ceuihpJT46KOPGDhwICUlJey999688cYb3+j78ssvp2/fvvTq1Ytrr712XX80beAMfKsyejQ0bbpsW9OmhfY1FBHcc889PPnkk7Rr146ePXty3HHHcdFFF3HiiSey6667svvuu9O5c2d+8IMfrPRK2iZNmjB27FgOOugg+vTpQ5s2bSqWnXvuuSxatIiuXbvSuXNnzj333DWuWZLyaurUqRVTusceeyznnnsujz/+OMOHD+eiiy4CCnc0GDJkCJMmTeL+++9nl112YeLEiUQE06ZNo0WLFjz44INMmDCBc845hwsvvHCZ93j11Vd56KGHmDhxIk8//TR//vOfmTdvXl18XG2gnNJdlaUXZowcWZjGLSoqhL01vGBjqW222YZbb721ymW//vWv+fWvf71M29J/jJa64oorKp4fcMABvPbaa9/oZ5NNNqm4yreyoUOHMnTo0DUrXJLqu/Hjv/43fdtt6bHddjw6YQJQOOXmrLPOAgohr3379gA0atSIrl27ArDddtvRvXt3AFq3bs3HH3/Mf/7zH370ox/xr3/9i6+++opmzZot85Yvv/wyr7zyCv379wfg008/Zfbs2WyxxRbr4hNLBr5qKS1d64AnSVoPLH/nhXffhfffL7SXltKpUyfOPvvsikD31VdfVdlN5XOnU0qMGzeO7t27c/bZZ/O3v/2NMWPGLLP+LrvsQvfu3bnzzjuJCBYtWkTjxo1r5zOq1pSVldG9e3d22203oHA+/WOPPbZafZSWljJ+LW/vtiYMfJKkDUdVd14oLy+0l5by+9//nh/96Ed8/vnnAJxwwgnL3P1gRfbbbz++973v8dRTT7Hrrrt+Y3nnzp0ZNGgQ/fr1o2HDhmyyySbce++9NGrkr+H6Zm0v8qmtsBcRDVNKS1a4fOkJ/XlVXFycpkyZskzbq6++yi677FJHFW143N+S1hsNGkBVv/ciCsFPWomysjJOPPHEZQLfBRdcwOzZs5k7dy7vvPMOt956Kx07duS2227j17/+Ne3bt+fzzz/n7LPPpqSkhPbt2zNz5kyuv/56HnzwQRYvXszrr7/OVVddRd++fYmIV4D3KVxn8RFwXErpy4g4FTiSwmDddSmlayNiKHAQ0BiYmFIas3zNS/lfC0nShqOoqHAD/arapWpYepEPFM7n3GmnnWjWrBnXXXcdN998M9deey0XXXQR5557LlOnTqVJkyZ069atyr4WLlzIPffcw6RJkxgzZgx9+/YFKAL+K6X0TkT8BBgWEY8BBwD7UAiCT0XE3Vk3zbL1VzqC51W6kqQNRy3ceUH5VvnbVfv0ge2268GECROYMGFCxfRsjx49ACgqKmLevHl89NFHbL311jRr1ozGjRtXnBO6vOW3y2wC3BgRE4D/Br4NdAZ2BZ4AHgOaA9tn6z+7qrAHjvBJkjYktXTnBeXTKq7xqbD8RTytWrXigw8+4PPPP6dJkyZMmzatyv6X3y7zJfDfKaX3s3U2AnYGXgC+m1JKEdE4pbQoIroBKzxvrzJH+OrInDlzOPTQQ9lpp53Ycccd+clPfrLCq8HWhXvuuYdXXnml4vV5553nnecl5VNpKZSVFc7ZKysz7GmFqr7GZyrDhpVU3C5t6QU+lTVs2JALLriAPn36MGTIELbaais22mij6r7tLOD6iHg8Ih4H+qWUXgYeBZ6MiCeAv0bEag3aedFGHUgpseeee3LyySdz/PHHs2TJEoYPH87mm29e49/jWF1Dhw7l4IMP5ogjjqjxvut6f0uStCbW5hqfpbfeWbRoET169ODhhx/m29/+9irfMyKmppSK17DkFXKErxoqz9+3bVt4vTYef/xxmjRpwvHHHw8U/idwySWX8Oc//5kvvviC008/nS5dutC1a1cuv/xyAJ577jl69+7NbrvtRs+ePfnss8+4/vrrOeWUUyr6Pfjgg5mQ3Tx000035ec//zm77747AwcOrPh6oGuuuYY99tiD3Xbbje9+97vMnz+fSZMmce+993LGGWfQrVs33nzzTYYOHcodd9wBwGOPPUb37t3p0qULJ5xwAgsXLgSgbdu2nH/++ey+++506dKlyps/S5JUX63Nt6tef/31lJSUsOeee3LsscdWK+zVJgPfKiydv581q5DyZ80qvF6b0DdjxoyKEzWXat68OUVFRVx77bW8/fbbvPDCC7z00kuUlpby1VdfcdRRR/GHP/yBF198kUcffZRNNtlkpe/xxRdfsPvuu/P888/Tr18/Ro0aBcDhhx/Oc889x4svvsguu+zCddddR+/evRk8eDAXX3wx06ZNY8cdd6zoZ8GCBQwdOpTbbruN6dOns3jx4mW+A7hVq1Y8//zznHzyyfzud79b850iSdJ6Zm2u8TnppJOYMGECzz//PKeffnrtFLgaDHyrUNX8/fz5hfY1lVJa5kTNyu0TJ05kxIgRFTfj3HzzzXn99dfZZptt2GOPPYBCOFzVzTobNGjAUUcdBcAxxxzD008/DRS+3qdv37506dKF8ePHM2PGjJX28/rrr9OuXTt23nlnAI477jgmTpxYsfzwww8HClcalZWVVePTS5JUP5SWwtix0KZNYRq3TZvC6/p42qeBbxXeeWf12qujU6dOLH9e4dLvVawqDK4oIDZq1IjySicRLFiwYIXvuXT7oUOHcsUVVzB9+nTOP//8lW6z9L1XZuONNwYK09KLFy9e6bqSJNU3ebnGx8C3Cmszf78iAwcOZP78+dx4440ALFmyhJ///OcMHTqU/fbbj6uvvroiPH388cd07NiR9957j+eeew6Azz77jMWLF9O2bVumTZtGeXk5s2fPZvLkyRXvUV5eXnEO3s0330yfPn0qtt1mm21YtGjRMl/v0qxZMz777LNv1NqxY0fKysqYOXMmADfddBP9+vVb8w8vSZLWOQPfKtTGPTojgrvvvpv//d//ZaeddmLnnXemSZMm/PrXv+bEE0+kqKiIrl27sttuu3HzzTez0UYbcdttt3Hqqaey2267se+++7JgwQL23ntv2rVrR5cuXTj99NPZfffdK97jW9/6VsW5go8//jjnnXceAP/zP//Dnnvuyb777kvHjh0r1j/66KO5+OKL6d69O2+++WZFe5MmTfjLX/7CkCFD6NKlCw0aNGDEiBFr/uElSdI6521ZqmH8+Pp3j85NN920ynsD1QVvyyJJUvXU1m1Z/KaNaigtXf8DniRJ0oo4pZtT68voniRJqnsGPkmSpJwz8EmSJOWcgU+SJCnnDHySJEk5Z+CrIw0bNqRbt24VjwsvvPAb60yYMIGDDz64Rt93woQJTJo0qeL11VdfXXEDaEmSlE/elqWObLLJJkybNm2dv++ECRPYdNNN6d27N4A3UZYkaQPgCF81jJ8+nraXtqXBqAa0vbQt46ePX/VGa+ihhx6iY8eO9OnTh7vuuqui/YILLuB3v/tdxevOnTtTVlYGwI033ljxzRzf//73AbjvvvvYc8896d69O4MGDeKDDz6grKyMq6++mksuuYRu3brx1FNPLdPvtGnT2GuvvejatSuHHXYY//73vwEoKSnhF7/4BT179mTnnXfmqaeeqrXPL0mSap6BbxXGTx/P8PuGM+uTWSQSsz6ZxfD7hq916Pvyyy+XmdK97bbbWLBgASeddBL33XcfTz31FP/6179W2c+MGTMYPXo0jz/+OC+++CJ/+MMfAOjTpw//+Mc/eOGFFzj66KP57W9/S9u2bRkxYgQ/+9nPmDZtGn379l2mr2OPPZaLLrqIl156iS5dujBq1KiKZYsXL2by5Mlceumly7RLkqT1n1O6qzDysZHMXzR/mbb5i+Yz8rGRlHZZ86/fqGpKd9q0abRr146ddtoJgGOOOYaxY8eutJ/HH3+cI444glatWgGw+eabAzBnzhyOOuoo3n//fb766ivatWu30n4++eQT/vOf/9CvXz8AjjvuOIYMGVKx/PDDDwegR48eFSOLkiSpfnCEbxXe+eSd1WpfWxFRZXujRo0oLy+veL1gwQIAUkpVbnPqqadyyimnMH36dP70pz9VrL+mNt54Y6BwscnixYvXqi9JkrRuGfhWoahF0Wq1r42OHTvy9ttv8+abbwJwyy23VCxr27Ytzz//PADPP/88b7/9NgADBw7k9ttvZ968eQB8/PHHQGHEbrvttgPghhtuqOinWbNmfPbZZ9947xYtWtCyZcuK8/NuuummitE+SZJUvxn4VmH0wNE0bdx0mbamjZsyeuDotep3+XP4zjrrLJo0acLYsWM56KCD6NOnD23atKlY/7vf/S4ff/wx3bp146qrrmLnnXcGoFOnTowcOZJ+/fqx2267cdpppwGFizyGDBlC3759K6Z7AQ455BDuvvvuios2Krvhhhs444wz6Nq1K9OmTeO8885bq88oSZLWD5FSqusaalVxcXGaMmXKMm2vvvoqu+yyS7X7GD99PCMfG8k7n7xDUYsiRg8cvVbn721oVnd/S5K0oYqIqSml4pru14s2qqG0S6kBT5Ik1VtO6UqSJOWcgU+SJCnnNtjAl/dzF9cX7mdJkureehv4IqIsIqZHxLSImJK1bR4Rj0TE/2V/tlyTvps0acK8efMMI7UspcS8efNo0qRJXZciSdIGbX2/aKN/SumjSq/PAh5LKV0YEWdlr3+xup22bt2aOXPmMHfu3JqqUyvQpEkTWrduXddlSJK0QVvfA9/yDgVKsuc3ABNYg8DXuHHjVX7VmCRJUl6st1O6QAIejoipETE8a9s6pfQ+QPbnVlVtGBHDI2JKRExxFE+SJG3o1ucRvr1TSu9FxFbAIxHxWnU3TCmNBcZC4cbLtVWgJElSfbDejvCllN7L/vwQuBvoCXwQEdsAZH9+WHcVSpIk1Q/rZeCLiG9FRLOlz4H9gJeBe4HjstWOA/5aNxVKkiTVH+vrlO7WwN0RAYUab04pPRQRzwG3R8Qw4B1gSB3WKEmSVC+sl4EvpfQWsFsV7fOAgeu+IkmSpPprvZzSlSRJUs0x8EmSJOWcgU+SJCnnDHySJEk5Z+CTJEnKOQOfJElSzhn4JEmScs7AJ0mSlHMGPkmSpJwz8EmSJOWcgU+SJCnnDHySJEk5Z+CTJEnKOQOfJElSzhn4JEmScs7AJ0mSlHMGPkmSpJwz8EmSJOWcgU+SJCnnDHySJEk5Z+CTJEnKOQOfJElSzhn4JEmScs7AJ0mSlHMGPkmSpJwz8EmSJOWcgU+SJCnnDHySJEk5Z+CTJEnKOQOfJElSzhn4JEmScs7AJ0mSlHMGPkmSpJwz8EmSJOWcgU+SJCnnDHySJEk5Z+CTJEnKOQOfJElSzhn4JEmScs7AJ0mSlHMGPkmSpJwz8EmSJOWcgU+SJCnnDHySJEk5Z+CTJEnKOQOfJElSzhn4JEmScs7AJ0mSlHMGPkmSpJwz8EmSJOWcgU+SJFVLWVkZEcG4ceMq2oYNG0a7du1WuE379u3XRWlaBQOfJEmqtt1335077rgDgIULFzJ79mwaNmxYx1VpVepd4IuIAyLi9YiYGRFn1XU9kiRtSFq2bEmjRo348MMPuf/++znwwAMBeOKJJ+jfvz99+/bl0EMPZcGCBctst2jRIk488UT69+9Pnz59mDx5cl2Uv8GqV4EvIhoCVwL/BewK/HdE7Fq3VUmStGEZMmQIt99+O7fddhtHHXUUAD179uSJJ57gqaeeomPHjtx+++3LbHPdddfRvn17nnjiCe68805+9rOf1UXpG6xGdV3AauoJzEwpvQUQEbcChwKv1GlVkiTl1fjxMHIkvPMObLstbLYZgwcPZtCgQbRs2ZJtttkGgBkzZnDOOeewcOFCPvjgA5o3b75MN9OnT2fSpEk89NBDAHzyySfr/KNsyOpb4NsOmF3p9RxgzzqqRZKkfBs/HoYPh/nzC6/ffRfef59N7rqLww47jF13/XqSbfTo0YwaNYpevXpx5plnklJapqtOnTrRvn37ipG9r776ap19DNW/wBdVtKVvrBQxHBgOUFRUVNs1SZKUTyNHfh32liovh5EjOb2sbJnmo48+mmHDhtGhQwdatGjxjRG+k046iVNPPZX+/fsDUFxczMUXX1yb1auSWD6Br88iohdwQUpp/+z12QAppd+saJvi4uI0ZcqUdVShJEk50qABVJUTIgrBTzUuIqamlIprut96ddEG8BywU0S0i4iNgKOBe+u4JkmS8mlFs2TOntU79SrwpZQWA6cAfwdeBW5PKc2o26okScqp0aOhadNl25o2LbSrXqlv5/CRUvob8Le6rkOSpNwrLS38ufQq3aKiQthb2q56o94FPkmStA6VlhrwcqBeTelKkiRp9Rn4JEmScs7AJ0mSlHMGPkmSpJwz8EmSJOWcgU+SJCnnDHySJEk5Z+CTJEnKOQOfJElSzhn4JEmScs7AJ0mSlHMGPkmSpJwz8EmSJOWcgU+SJCnnDHySJEk5Z+CTJEnKOQOfJElSzhn4JEmScs7AJ0mSlHMGPkmSpJwz8EmSJOWcgU+SJCnnDHySJEk5Z+CTJEnKOQOfJElSzhn4JEmScs7AJ0mSlHMGPkmSpJwz8EmSJOWcgU+SJCnnDHySJEk5Z+CTJEnKOQOfJElSzhn4JEmScs7AJ0mSlHMGPkmSpJwz8EmSJOWcgU+SJCnnDHySJEk5Z+CTJEnKOQOfJElSzhn4JEmScs7AJ0mSlHMGPkmSpJwz8EmSJOWcgU+SJCnnDHySJEk5Z+CTJEnKOQOfJElSzhn4JEmScs7AJ0mSlHMGPkmSpJxb7wJfRFwQEe9GxLTscWClZWdHxMyIeD0i9q/LOiVJkuqLRnVdwApcklL6XeWGiNgVOBroBGwLPBoRO6eUltRFgZIkSfXFejfCtxKHAremlBamlN4GZgI967gmSZKk9d76GvhOiYiXIuLPEdEya9sOmF1pnTlZmyRJklaiTgJfRDwaES9X8TgUuArYEegGvA/8fulmVXSVVtD/8IiYEhFT5s6dWxsfQZIkqd6ok3P4UkqDqrNeRFwD3J+9nANsX2lxa+C9FfQ/FhgLUFxcXGUolCRJ2lCsd1O6EbFNpZeHAS9nz+8Fjo6IjSOiHbATMHld1ydJklTfrI9X6f42IrpRmK4tA34AkFKaERG3A68Ai4EfeYWuJEnSqq13gS+l9P2VLBsNjF6H5UiSJNV7692UriRJkmqWgU+SJCnnDHySJEk5Z+CTJEnKuRUGvohoHhG/iYibIuJ7yy37Y+2XJkmSpJqwshG+v1D4dos7Kdz/7s6I2DhbtletVyZJkqQasbLAt2NK6ayU0j0ppcHA88DjEbHFOqpNkiRJNWBl9+HbOCIapJTKoXAPvIiYA0wENl0n1UmSJGmtrWyE7z5gQOWGlNINwM+Br2qzKEmSJNWcFY7wpZTOXEH7QxS+x1aSJEn1gLdlkSRJyjkDnyRJUs4Z+CRJknJuZVfpVoiI3kDbyuunlG6spZokSZJUg1YZ+CLiJmBHYBqwJGtOgIFPkiSpHqjOCF8xsGtKKdV2MZIkSap51TmH72Xg27VdiCRJkmpHdUb4WgGvRMRkYOHSxuzr1iRJkrSeq07gu6C2i5AkSVLtWeWUbkrpSeA1oFn2eDVrkySpXigrK6Nly5b079+fvfbai8GDB/Paa6+tVh/XX389n3766VrXMm3aNCZOnLjW/UirY5WBLyKOBCYDQ4AjgX9GxBG1XZgkSTWpR48ePPHEE/zjH//g7LPP5sgjj2ThwoWr3jCzuoFvyZIlVbYb+FQXqjOlOxLYI6X0IUBEbAk8CtxRm4VJklRbevXqRZcuXZgyZQqXXnopH374IQ0aNOCaa66hffv2PPHEE5xzzjk0btyY7t27c8ghhzBt2jSGDBlCcXExl112GSNGjGDGjBmUl5dz6aWX0rNnT4YOHUqTJk2YM2cOp59+On/5y1+YNWsWn376KRdccAGDBw9mzJgxfPbZZzz66KOMHz+emTNnct555xERdOzYkauuuoqIqOtdpJypTuBrsDTsZebhN3RIkuq57bffnmeeeYYuXbpw3nnnMXHiRM4880zuvPNOTj75ZJ588km23nprlixZQsOGDenWrRvjxo2jdevW3HPPPSxatIinn36at956i6OPPprJkycD0KZNG66++moA9thjD771rW8xb948+vXrx+DBgznttNOYM2cO55xzDiklDj74YCZMmECLFi342c9+xgMPPMDBBx9cl7tGOVSdwPdQRPwduCV7fRTwt9orSZKkmjF++nhGPjaSWWWzaPJOE8ZPH09pl1IAZs+ezT//+U9GjhwJQO/evRkxYgRz585liy22YOuttwagYcOG3+j39ddfp3fv3gDssMMO/Pvf/65YtrS9vLycUaNGMWnSJBo1asSsWbO+0c9HH31EWVkZhx56KACff/45HTp0qME9IBWsMvCllM6IiO8CewMBjE0p3V3rlUmStBbGTx/P8PuGM3/RfAAWLF7A8PuGA7DTlzsxffp0SktLmTRpEoMGDWLSpEl06NCBLbfcko8//pi5c+ey5ZZbUl5eToMGDdhoo41YvHgxAB06dODee+/lxBNP5K233mKzzTareN+lAfHFF1/kpZde4qmnnmLevHnsuOOOAMv006pVK3bYYQfuv/9+Nt10UwAWLVq0TvaPNizV+i7dlNKdwJ21XIskSTVm5GMjK8IeAO/D/Gvmc8LYE9ivy37ccssttG3blmOPPZZ99tmHiOCaa64hIrjyyisZPHgwG2+8Md27d+eSSy7h8MMPZ9iwYfTu3ZtRo0bxwAMP0KdPH5YsWcLll1/+jffv0KEDixYtoqSkhG7dulWEwr333psrrriCl19+mSuuuIIxY8YwePBgUko0aNCASy65hK5du66jvaQNRazoG9Mi4umUUp+I+IzCd+dWLAJSSqn5uihwbRUXF6cpU6bUdRmSpHWswagGJL75Oy4Iys8vr4OKpFWLiKkppeKa7neFI3wppT7Zn81q+k0lSaptRS2KmPXJN8+bK2pRVAfVSHWrOvfh2zEiNs6el0TEjyNis1qvTJKktTB64GiaNm66TFvTxk0ZPXB0HVUk1Z3q3F7lTmBJRLQHrgPaATfXalWSJK2l0i6ljD1kLG1atCEI2rRow9hDxlZcpSttSKpz0UZ5SmlxRBwGXJpSujwiXqjtwiRJWlulXUoNeBLVG+FbFBH/DRwH3J+1Na69kiRJklSTqhP4jgd6AaNTSm9HRDtgXO2WJUmSpJpSnRsvvwL8uNLrt4ELa7MoSZIk1ZxVBr6I2Bu4AGiTrb/0Pnw71G5pkiRJqgnVuWjjOuBnwFRgSe2WI0mSpJpWncD3SUrpwVqvRJIkSbWiOoHviYi4GLgLWLi0MaX0fK1VJUmSpBpTncC3Z/Zn5e91S8CAmi9HkiRJNa06V+n2XxeFSJIkqXZU57t0t46I6yLiwez1rhExrPZLkyRJUk2ozo2Xrwf+DmybvX4D+Gkt1SNJkqQaVp3A1yqldDtQDpBSWoy3Z5EkSao3qhP4voiILShcqEFE7AV8UqtVSZIkqcZU5yrd04B7gR0j4hlgS+CIWq1KkiRJNaY6V+k+HxH9gA4Uvlbt9ZTSolqvTJIkSTWiOt+l2xA4EGibrb9fRJBSGlPLtUmSJKkGVGdK9z5gATCd7MINSZIk1R/VCXytU0pda70SSZIk1YrqXKX7YETsV+uVSJIkqVZUZ4TvH8DdEdEAWEThwo2UUmpeq5VJkiSpRlQn8P0e6AVMTymlWq5HkiRJNaw6U7r/B7xck2EvIoZExIyIKI+I4uWWnR0RMyPi9YjYv1J7j4iYni27LCKipuqRJEnKs+qM8L0PTIiIB4GFSxvX8rYsLwOHA3+q3BgRuwJHA50ofHfvoxGxc0ppCXAVMJzCFPPfgAOAB9eiBkmSpA1CdQLf29ljo+yx1lJKrwJUMUh3KHBrSmkh8HZEzAR6RkQZ0Dyl9Gy23Y3AdzDwSZIkrVJ1vmlj1LooJLMdhRG8peZkbYuy58u3S5IkaRVWGPgi4tKU0k8j4j7gG+fvpZQGr6zjiHgU+HYVi0amlP66os2qaEsraV/Rew+nMP1LUVHRysqUJEnKvZWN8N2U/fm7Nek4pTRoDTabA2xf6XVr4L2svXUV7St677HAWIDi4mKvLJYkSRu0FQa+lNLU7M8nI2LL7PncWq7nXuDmiBhD4aKNnYDJKaUlEfFZROwF/BM4Fri8lmuRJEnKhRXeliUKLoiIj4DXgDciYm5EnLe2bxoRh0XEHAr393sgIv4OkFKaAdwOvAI8BPwou0IX4GTgWmAm8CZesCFJklQtsaLb60XEz4ADgeEppbezth0o3B7loZTSJeusyrVQXFycpkyZUtdlSJIkrVJETE0pFa96zdWzshsvHwv899KwB5BSegs4JlsmSZKkemBlga9xSumj5Ruz8/ga115JkiRJqkkrC3xfreEySZIkrUdWdluW3SLi0yraA2hSS/VIkiSphq3stiwN12UhkiRJqh0rm9KVJElSDhj4JEmScs7AJ0mSlHMGPkmSpJwz8EmSJOWcgU+SJCnnDHySJEk5Z+CTJEnKOQOfJElSzhn4JEmScs7AJ0mSlHMGPkmSpJwz8EmSJOWcgU+SJCnnDHySJEk5Z+CTJEnKOQOfJElSzhn4JEmScs7AJ0mSlHMGPkmSpJwz8EmSJOWcgU+SJCnnDHySJEk5Z+CTJEnKOQOfJElSzhn4JEmScs7AJ0mSlHMGPkmSpJwz8EnSeuSTTz6hpKSEkpISNttsM3r16kVJSQl33HHHGvVXVlbGoEGDarhKSfVNo7ouQJL0tRYtWjBhwgQASkpKGDduHK1bt66TWsrLy2nQwHEBKQ/8SZak9VhKiRNPPJH+/fvTp08fJk+eDMCYMWMYMGAAe+yxB+eff37F+meddRa9evWif//+/P3vfwfg008/5YQTTmD33Xfn0ksvBQojiUceeSQDBw5kwIABzJw5EyiEzJ///Ofsv//+FW2S6j9H+CRpPXbDDTfQvn17rr32Wj744AMOP/xwnnnmGX7wgx9w2mmnUV5eTp8+fRg2bBgvv/wy77zzDpMmTSIiWLJkCbNnz2bOnDlMmDCBBg0asMsuu/DTn/6U3/zmNxx++OEcffTRvPjii5x11lkV08bFxcX8/ve/r+NPLqkmGfgkaT0wfjyMHAnvvANFRTB6dKH97bff5vnnn+ehhx4CCiNzAHfeeSfXXnstEcFbb73F7Nmzefnll+nfvz8RAUDDhg0B2GWXXWjatOkybdOnT+fJJ5/k6quvBqBRo69/HfTu3bv2P7CkdcrAJ0l1bPx4GD4c5s8vvJ41q/C6qAgGDGhD586d+dnPfgbAV199BcC5557La6+9xsYbb8zee+9NSonOnTtz8803c9JJJwGFc/CAigBYWadOnejVqxeHHXbYMv3C16FQUn54Dp8k1bGRI78Oe0vNnw9vvw3HH388r7/+Ov3796d///6MHDkSgMMPP5y9996bY445hk033RSAAw88kG233ZZevXoxYMAAHnnkkZW850huv/12BgwYQP/+/bn88str7fNJqnuRUqrrGmpVcXFxmjJlSl2XIUkr1KABVPVPcQRkg3SSNhARMTWlVFzT/TrCJ0l1rKho9dolaXUZ+CSpjo0eDdk1FRWaNv36wg1JWlsGPkmqY6WlMHYstGlTmMZt06bwurS0riuTlBdepStJ64HSUgOepNrjCJ8kSVLOGfgkSZJyzsAnSZKUcwY+SZKknDPwSZIk5ZyBT5IkKecMfJIkSTln4JMkScq5Ogl8ETEkImZERHlEFFdqbxsRX0bEtOxxdaVlPSJiekTMjIjLIiLqonZJkqT6pq5G+F4GDgcmVrHszZRSt+wxolL7VcBwYKfscUDtlylJklT/1UngSym9mlJ6vbrrR8Q2QPOU0rMppQTcCHyntuqTJEnKk/XxHL52EfFCRDwZEX2ztu2AOZXWmZO1SZIkaRUa1VbHEfEo8O0qFo1MKf11BZu9DxSllOZFRA/gnojoBFR1vl5ayXsPpzD9S1FR0eoVLkmSlDO1FvhSSoPWYJuFwMLs+dSIeBPYmcKIXutKq7YG3ltJP2OBsQDFxcUrDIaSJEkbgvVqSjcitoyIhtnzHShcnPFWSul94LOI2Cu7OvdYYEWjhJIkSaqkrm7LclhEzAF6AQ9ExN+zRfsAL0XEi8AdwIiU0sfZspOBa4GZwJvAg+u4bEmSpHopChe95ldxcXGaMmVKXZchSZK0ShExNaVUvOo1V896NaUrSZKkmmfgkyRJyjkDnyRJUs4Z+CRJknLOwCdJkpRzBj5JkqScM/BJkiTlnIFPkiQp5wx8kiRJOWfgkyRJyjkDnyRJUs4Z+CRJknLOwCdJkpRzBj5JkqScM/BJkiTlnIFPkiQp5wx8kiRJOWfgkyRJyjkDn6QKZWVltGzZkpKSEnr16sWpp566WttfcMEFjBs3rtrvNWjQoDUpU5K0mgx8kpbRo0cPJkyYwLPPPssrr7zCjBkz6roklixZUtclSFK9ZuCTVKXFixfz5Zdf0qxZM/bff39KSkro2bMnzz77LADvvPMOBxxwAP369WPgwIGUl5cD8MQTTzB48GC6devGa6+9BsCTTz5Jv379KCkpYcSIEaSUlnmvN954g5KSEvr168dRRx3Fl19+CUCbNm344Q9/yKGHHroOP7kk5Y+BT9rAjZ8+nraXtqXBqAb0+XMfnp38LCUlJey66660bt2aoqIi7rrrLiZMmMANN9zAyJEjATj99NM57bTTePLJJ3nkkUdo0KDwz0mzZs249957OfPMM7n22mtJKfHTn/6Ue++9lwkTJrDJJpvwwAMPLFPDmWeeyS9/+UuefPJJOnXqxDXXXAPA+++/z1lnncX999+/bneKJOVMo7ouQFLdGT99PMPvG878RfMBePfTd2mwVQNOuvwkSruU8pOf/IRbbrmFxx57jNdff52GDRvy7rvvAjBjxgz69+8PUBH2oDAlDFBUVMQjjzzCRx99RFlZWcUo3eeff06HDh3o3LlzxTZvvPEGvXv3BqB3797cddddAGy33XYUFRXV8l6QpPxzhE/agI18bGRF2FuqvLyckY8VRvFatmzJzJkzadiwIU899RR//OMfK6ZjO3XqxIQJEyq2WSoiKp6nlGjVqhU77LAD999/PxMmTGDKlCkMGzZsmffceeedmTRpEgCTJk2iQ4cOADRs2LBmP7AkbaAc4ZM2YO988s43G9+HWZfOot/d/WjWrBl//OMfOeKIIxg0aBB77713xWq/+93vOOmkk/jVr35F48aNefjhh6t8j4hgzJgxDB48mJQSDRo04JJLLqF58+YV61x44YX84Ac/IKXEVlttxU033VTjn1WSNmSx/MnTeVNcXJymTJlS12VI66W2l7Zl1iezvtHepkUbyn5atu4LkqQNXERMTSkV13S/TulKG7DRA0fTtHHTZdqaNm7K6IGj66giSVJtMPBJG7DSLqWMPWQsbVq0IQjatGjD2EPGUtqltK5LkyTVIKd0JUmS1hNO6UqSJGmNGPgkSZJyzsAnSZKUcwY+SZKknDPwSZIk5ZyBT5IkKecMfJIkSTln4JMkSco5A58kSVLOGfgkSZJyzsAnSZKUcwY+SZKknDPwSZIk5ZyBT5IkKecMfJIkSTln4JMkSco5A58kSVLOGfgkSZJyzsAnSZKUcwY+SZKknDPwSZIk5ZyBT5IkKecMfJIkSTln4JMkScq5Ogl8EXFxRLwWES9FxN0RsVmlZWdHxMyIeD0i9q/U3iMipmfLLouIqIvaJUmS6pu6GuF7BOicUuoKvAGcDRARuwJHA52AA4A/RkTDbJurgOHATtnjgHVdtCRJUn1UJ4EvpfRwSmlx9vIfQOvs+aHArSmlhSmlt4GZQM+I2AZonlJ6NqWUgBuB76zruiVJkuqj9eEcvhOAB7Pn2wGzKy2bk7Vtlz1fvl0biLKyMlq2bEn//v3Za6+9GDx4MK+99tpq9XH99dfz6aef1lKFkiStvxrVVscR8Sjw7SoWjUwp/TVbZySwGBi/dLMq1k8raV/Rew+nMP1LUVHRalSt9VmPHj149NFHAXj22Wc58sgjee6559h4442rtf3111/PoEGDaN68ebXWX7JkCQ0bNlz1ipIkredqLfCllAatbHlEHAccDAzMpmmhMHK3faXVWgPvZe2tq2hf0XuPBcYCFBcXrzAYqv7q1asXXbp0YcqUKVx66aV8+OGHNGjQgGuuuYb27dvzxBNPcM4559C4cWO6d+/OIYccwrRp0xgyZAjFxcVcdtlljBgxghkzZlBeXs6ll15Kz549GTp0KE2aNGHOnDmcfvrplJSU1PVHlSRprdVa4FuZiDgA+AXQL6U0v9Kie4GbI2IMsC2FizMmp5SWRMRnEbEX8E/gWODydV231i/bb789zzzzDF26dOG8885j4sSJnHnmmdx5552cfPLJPPnkk2y99dYVI3XdunVj3LhxtG7dmnvuuYdFixbx9NNP89Zbb3H00UczefJkANq0acPVV19dx59OkqSaU1fn8F0BNAMeiYhpEXE1QEppBnA78ArwEPCjlNKSbJuTgWspXMjxJl+f96ecGj8e2raFBg2gTx/417+WXT579mwefPBBevfuDUDv3r157bXXmDt3LltssQVbb701QJXTsq+//nrFdjvssAP//ve/K5YtbZckKS/q6ird9iml7VNK3bLHiErLRqeUdkwpdUgpPVipfUpKqXO27JRK08DKofHjYfhwmDULUoJ334VXXy20A0yePJnp06dzwAEHMGnSJAAmTZpEhw4d2HLLLfn444+ZO3cuAOXl5QBstNFGLF5cuDi8Q4cOFdu99dZbbLbZZhXv7Xl7kqS8qZMpXWlVRo6E+fOXbSsvn8qwYf254ooFtGrViltuuYW2bdty7LHHss8++xARXHPNNUQEV155JYMHD2bjjTeme/fuXHLJJRx++OEMGzaM3r17M2rUKB544AH69OnDkiVLuPxyzxCQJOVX5H2grLi4OE2ZMqWuy9BqatCgMLK3vAjIBuwkScqdiJiaUiqu6X7Xh/vwSd+worvpeJcdSZJWn4FP66XRo6Fp02XbmjYttEuSpNVj4NN6qbQUxo6FNm0K07ht2hRel5bWdWWSJNU/XrSh9VZpqQFPkqSa4AifJElSzhn4JEmScs7AJ0mSlHMGPkmSpJwz8EmSJOWcgU+SJCnnDHySJEk5Z+CTJEnKOQOfJElSzhn4JEmScs7AJ0mSlHMGPkmSpJwz8EmSJOWcgU+SJCnnDHySJEk5Z+CTJEnKOQOfJElSzhn4JEmScs7AJ0mSlHMGPkmSpJwz8EmSJOWcgU+SJCnnDHySJEk5Z+CTJEnKOQOfJElSzhn4JEmScs7AJ0mSlHMGPkmSpJwz8EmSJOWcgU+SJCnnDHySJEk5Z+CTJEnKOQOfJElSzhn4akhZWRkRwbhx4yrahg0bRrt27Varj3vvvbc2ypMkSRswA18N2n333bnjjjsAWLhwIbNnz6Zhw4bV3n51A9+SJUtWu0ZJkrThMfDVoJYtW9KoUSM+/PBD7r//fg488EAAnnjiCfr370/fvn059NBDWbBgAfPnz+e//uu/6NevHyUlJbzxxhuMGTOGBx54gJKSEqZOncr06dMZNGgQAwYM4Mgjj+TLL78EoE2bNvzwhz/k0EMPZcKECfTs2ZP+/ftz/PHH1+XHlyRJ66lIKdV1DbWquLg4TZkypdbfp6ysjBNPPJGTTjqJuXPnMnHiRP7whz/Qt29fXnzxRb71rW8B8Itf/IJOnTrRuXNnfve733HzzTcDUF5ezsSJExk3bhzXXnstAPvssw/jxo2jqKiIP/zhDzRs2JBTTjmFjTbaiJkzZ1JUVMSPf/xjDj74YPbbbz/Ky8tp0MAML0lSfRURU1NKxTXdb6Oa7nBDMn76eEY+NpJ3PnmHbZdsy2afb8bgwYMZNGgQLVu2ZJtttgFgxowZnHPOOSxcuJAPPviA5s2b8/3vf58ePXpwzDHHsMUWWzBq1Khv9D9jxgyOPfZYABYsWMCgQYMA2G677SgqKgLgjDPO4KKLLuKGG25gwIABDBs2bB19ekmSVF8Y+NbQ+OnjGX7fcOYvmg/Au5++y/sfvc9dM+/isMMOY9ddd61Yd/To0YwaNYpevXpx5plnklJi4cKFnHbaaUQEv/rVr7jpppvo0aMHixcvrtiuc+fO3HLLLRXB8auvvgJY5rzALbbYgiuuuIKUEjvvvDNDhgyhefPm62IXSJKkesLAt4ZGPjayIuwtVV5ezsjHRlJ2etky7UcffTTDhg2jQ4cOtGjRgubNm/PKK6/w4x//mEaNGlFeXs4NN9xAq1atePPNNzniiCM4//zzufLKKxk6dCiLFi0C4Oyzz2bfffddpu8xY8bw8MMPU15ezr777mvYkyRJ3+A5fGuowagGJL6574Kg/PzyGn8/SZKUf7V1Dp9n+K+hohZFq9UuSZJUVwx8a2j0wNE0bdx0mbamjZsyeuDoOqpIkiSpaga+NVTapZSxh4ylTYs2BEGbFm0Ye8hYSruU1nVpkiRJy/AcPkmSpPWE5/BJkiRpjdRJ4IuIiyPitYh4KSLujojNsva2EfFlREzLHldX2qZHREyPiJkRcVlERF3ULkmSVN/U1QjfI0DnlFJX4A3g7ErL3kwpdcseIyq1XwUMB3bKHgess2olSZLqsToJfCmlh1NKS79S4h9A65WtHxHbAM1TSs+mwkmHNwLfqd0qJUmS8mF9OIfvBODBSq/bRcQLEfFkRPTN2rYD5lRaZ07WJkmSpFWota9Wi4hHgW9XsWhkSumv2TojgcXA+GzZ+0BRSmleRPQA7omITkBV5+ut8PLiiBhOYfqXoiJvhCxJkjZstRb4UkqDVrY8Io4DDgYGZtO0pJQWAguz51Mj4k1gZwojepWnfVsD763kvccCY6FwW5a1+BiSJEn1Xl1dpXsA8AtgcEppfqX2LSOiYfZ8BwoXZ7yVUnof+Cwi9squzj0W+GsdlC5JklTv1NoI3ypcAWwMPJLdXeUf2RW5+wC/jIjFwBJgRErp42ybk4HrgU0onPP34PKdSpIk6ZvqJPCllNqvoP1O4M4VLJsCdK7NuiRJkvJofbhKV5IkSbXIwCdJkpRzBj5JkqScM/BJkiTlnIFPkiQp5yK753FuRcRcYFZd11HHWgEf1XURWic81hsGj/OGw2O9Yah8nNuklLas6TfIfeATRMSUlFJxXdeh2uex3jB4nDccHusNw7o4zk7pSpIk5ZyBT5IkKecMfBuGsXVdgNYZj/WGweO84fBYbxhq/Th7Dp8kSVLOOcInSZKUcwa+nIqI0yMiRUSrSm1nR8TMiHg9Ivav1N4jIqZnyy6LiKibqlVdEXFxRLwWES9FxN0RsVmlZR7nHIuIA7JjOzMizqrrerTmImL7iHgiIl6NiBkR8ZOsffOIeCQi/i/7s2Wlbar8+db6LyIaRsQLEXF/9nqdHmcDXw5FxPbAvsA7ldp2BY4GOgEHAH+MiIbZ4quA4cBO2eOAdVqw1sQjQOeUUlfgDeBs8DjnXXYsrwT+C9gV+O/smKt+Wgz8PKW0C7AX8KPseJ4FPJZS2gl4LHu9qp9vrf9+Arxa6fU6Pc4Gvny6BDgTqHyC5qHArSmlhSmlt4GZQM+I2AZonlJ6NhVO6LwR+M66LlirJ6X0cEppcfbyH0Dr7LnHOd96AjNTSm+llL4CbqVwzFUPpZTeTyk9nz3/jEIY2I7CMb0hW+0Gvv5ZrfLne50WrTUSEa2Bg4BrKzWv0+Ns4MuZiBgMvJtSenG5RdsBsyu9npO1bZc9X75d9ccJwIPZc49zvq3o+Kqei4i2QHfgn8DWKaX3oRAKga2y1Tz+9delFAZiyiu1rdPj3GhtO9C6FxGPAt+uYtFI4P8B+1W1WRVtaSXtqmMrO84ppb9m64ykMC00fulmVazvcc4Pj2MORcSmwJ3AT1NKn67k9FqPfz0UEQcDH6aUpkZESXU2qaJtrY+zga8eSikNqqo9IroA7YAXs38wWgPPR0RPCv9D2L7S6q2B97L21lW0q46t6DgvFRHHAQcDA9PX91fyOOfbio6v6qmIaEwh7I1PKd2VNX8QEduklN7PTsf4MGv3+NdPewODI+JAoAnQPCLGsY6Ps1O6OZJSmp5S2iql1Dal1JbCX5rdU0r/Au4Fjo6IjSOiHYWT9idnw8ifRcRe2VWbxwJ/ravPoOqJiAOAXwCDU0rzKy3yOOfbc8BOEdEuIjaicGL3vXVck9ZQ9rN4HfBqSmlMpUX3Asdlz4/j65/VKn++11W9WjMppbNTSq2z38tHA4+nlI5hHR9nR/g2ECmlGRFxO/AKhSnAH6WUlmSLTwauBzahcC7Yg1V2ovXJFcDGwCPZaO4/UkojPM75llJaHBGnAH8HGgJ/TinNqOOytOb2Br4PTI+IaVnb/wMuBG6PiGEU7rYwBFb577jqn3V6nP2mDUmSpJxzSleSJCnnDHySJEk5Z+CTJEnKOQOfJElSzhn4JEmScs7AJ6neioglETEtImZExIsRcVpENMiWFUfEZXVU16Qa6mdI9tnKI6K4JvqUtGHytiyS6q2I+DyltGn2fCvgZuCZlNL5dVtZzYiIXSh89+afgNNTSlPquCRJ9ZQjfJJyIaX0ITAcOCUKSiLifoCIuCAiboiIhyOiLCIOj4jfRsT0iHgo+3orIqJHRDwZEVMj4u/Z1x0RERMi4qKImBwRb0RE36y9U9Y2LSJeioidsvbPsz8jIi6OiJez9zoqay/J+rwjIl6LiPFRxReoppReTSm9vi72n6R8M/BJyo2U0lsU/l3bqorFOwIHAYcC44AnUkpdgC+Bg7LQdzlwREqpB/BnYHSl7RullHoCPwWWjiCOAP6QUuoGFFP4OsPKDge6AbsBg4CLl4ZIoHvW167ADhS+dUGSaoVfrSYpb74xUpZ5MKW0KCKmU/hasoey9ulAW6AD0Jmvv66uIfB+pe2XfrH91Gx9gGeBkRHRGrgrpfR/y71nH+CW7GuRPoiIJ4E9gE8pfMfxHIDsa7XaAk+v5meVpGpxhE9SbkTEDsAS4MMqFi8ESCmVA4vS1ycwl1P4z28AM1JK3bJHl5TSfstvn/XfKOvrZmAwhVHCv0fEgOVLWkm5Cys9r+hTkmqDgU9SLkTElsDVwBVpza5Gex3YMiJ6Zf01johOq3jPHYC3UkqXAfcCXZdbZSJwVEQ0zOrbB5i8BrVJ0lox8EmqzzZZelsW4FHgYWDUmnSUUvoKOAK4KCJeBKYBvVex2VHAy9mUbEfgxuWW3w28BLwIPA6cmVL6V3VriojDImIO0At4ICL+Xt1tJakyb8siSZKUc47wSZIk5ZyBT5IkKecMfJIkSTln4JMkSco5A58kSVLOGfgkSZJyzsAnSZKUcwY+SZKknPv/6iNRZnHtzw0AAAAASUVORK5CYII=",
      "text/plain": [
       "<Figure size 720x576 with 1 Axes>"
      ]
     },
     "metadata": {
      "needs_background": "light"
     },
     "output_type": "display_data"
    }
   ],
   "source": [
    "# Categories for labeling in the plot\n",
    "categories = list(gender_embedding.keys()) + list(occupation_embedding.keys()) + list(education_embedding.keys())\n",
    "category_labels = ['Gender'] * len(gender_embedding) + ['Occupation'] * len(occupation_embedding) + ['Education'] * len(education_embedding)\n",
    "colors = {'Gender': 'red', 'Occupation': 'blue', 'Education': 'green'}\n",
    "\n",
    "# Apply t-SNE for dimensionality reduction\n",
    "# n_components: The number of dimensions to reduce to.\n",
    "# perplexity: The number of nearest neighbors to consider.\n",
    "tsne = TSNE(n_components=2, perplexity=3, random_state=42)\n",
    "embeddings_2d = tsne.fit_transform(embeddings)\n",
    "\n",
    "# Plot the embeddings in 2D space\n",
    "plt.figure(figsize=(10, 8))\n",
    "for i, category in enumerate(categories):\n",
    "    plt.scatter(embeddings_2d[i, 0], embeddings_2d[i, 1], c=colors[category_labels[i]], label=category_labels[i] if i == 0 or category_labels[i] != category_labels[i - 1] else \"\")\n",
    "\n",
    "# Annotate the points with labels\n",
    "for i, txt in enumerate(categories):\n",
    "    plt.annotate(txt, (embeddings_2d[i, 0], embeddings_2d[i, 1]), fontsize=9)\n",
    "\n",
    "plt.xlabel('Dimension 1')\n",
    "plt.ylabel('Dimension 2')\n",
    "plt.title('t-SNE Visualization of Random Embeddings')\n",
    "plt.legend(loc='best')\n",
    "plt.show()"
   ]
  },
  {
   "cell_type": "markdown",
   "id": "a09cc088",
   "metadata": {},
   "source": [
    "(Note that this will change depending on your data.)\n",
    "\n",
    "When *Engineer*, *Doctor*, and *Doctorate* are close to each other in the plot, it tells us that these roles share some key features or characteristics in our data. Maybe they all need high education levels or specialized skills.\n",
    "\n",
    "On the other hand, if *Teacher* is far from these clustered points, it suggests that being a teacher has different characteristics or features in the data.\n",
    "\n",
    "\n",
    "Visualization helps us see hidden patterns in our data. For instance, seeing similar roles cluster together can tell us something important about the relationships between these roles, like educational background or job skills.\n",
    "\n",
    "It helps us understand how our embedding model (which converts categories to numbers) is doing in capturing these patterns.\n",
    "\n"
   ]
  },
  {
   "cell_type": "markdown",
   "id": "580f3ed1",
   "metadata": {},
   "source": [
    "## Federated Learning"
   ]
  },
  {
   "cell_type": "markdown",
   "id": "b7a84c01",
   "metadata": {},
   "source": [
    "Federated learning is a machine learning technique that trains an algorithm across multiple devices or servers holding local data samples, without exchanging them. This approach stands in contrast to traditional centralized machine learning techniques where all data is uploaded to one server."
   ]
  },
  {
   "cell_type": "markdown",
   "id": "4cbad84e",
   "metadata": {},
   "source": [
    "We'll need to download some data from a repository about spam and ham emails. Note: the next cell applies best practices when it comes to getting data from somewhere. Retries, timeouts, and error handling. These will get you far in your data science journey."
   ]
  },
  {
   "cell_type": "code",
   "execution_count": 45,
   "id": "9057c0cd",
   "metadata": {},
   "outputs": [
    {
     "name": "stdout",
     "output_type": "stream",
     "text": [
      "--2024-06-20 10:54:33--  https://github.com/Shuyib/Grokking-Deep-Learning/raw/master/ham.txt\n",
      "Resolving github.com (github.com)... 20.87.245.0\n",
      "Connecting to github.com (github.com)|20.87.245.0|:443... connected.\n",
      "HTTP request sent, awaiting response... 302 Found\n",
      "Location: https://raw.githubusercontent.com/Shuyib/Grokking-Deep-Learning/master/ham.txt [following]\n",
      "--2024-06-20 10:54:36--  https://raw.githubusercontent.com/Shuyib/Grokking-Deep-Learning/master/ham.txt\n",
      "Resolving raw.githubusercontent.com (raw.githubusercontent.com)... 185.199.110.133, 185.199.108.133, 185.199.109.133, ...\n",
      "Connecting to raw.githubusercontent.com (raw.githubusercontent.com)|185.199.110.133|:443... connected.\n",
      "HTTP request sent, awaiting response... 200 OK\n",
      "Length: 21180948 (20M) [text/plain]\n",
      "Saving to: ‘data/ham.txt’\n",
      "\n",
      "data/ham.txt        100%[===================>]  20.20M   241KB/s    in 76s     \n",
      "\n",
      "2024-06-20 10:55:56 (273 KB/s) - ‘data/ham.txt’ saved [21180948/21180948]\n",
      "\n",
      "--2024-06-20 10:55:56--  https://github.com/Shuyib/Grokking-Deep-Learning/raw/master/spam.txt\n",
      "Resolving github.com (github.com)... 20.87.245.0\n",
      "Connecting to github.com (github.com)|20.87.245.0|:443... connected.\n",
      "HTTP request sent, awaiting response... 302 Found\n",
      "Location: https://raw.githubusercontent.com/Shuyib/Grokking-Deep-Learning/master/spam.txt [following]\n",
      "--2024-06-20 10:55:58--  https://raw.githubusercontent.com/Shuyib/Grokking-Deep-Learning/master/spam.txt\n",
      "Resolving raw.githubusercontent.com (raw.githubusercontent.com)... 185.199.111.133, 185.199.109.133, 185.199.108.133, ...\n",
      "Connecting to raw.githubusercontent.com (raw.githubusercontent.com)|185.199.111.133|:443... connected.\n",
      "HTTP request sent, awaiting response... 200 OK\n",
      "Length: 10843548 (10M) [application/octet-stream]\n",
      "Saving to: ‘data/spam.txt’\n",
      "\n",
      "data/spam.txt       100%[===================>]  10.34M   809KB/s    in 17s     \n",
      "\n",
      "2024-06-20 10:56:18 (615 KB/s) - ‘data/spam.txt’ saved [10843548/10843548]\n",
      "\n"
     ]
    }
   ],
   "source": [
    "!for i in {1..3}; do wget --timeout=300 --tries=3 https://github.com/Shuyib/Grokking-Deep-Learning/raw/master/ham.txt -O data/ham.txt && wget --timeout=300 --tries=3 https://github.com/Shuyib/Grokking-Deep-Learning/raw/master/spam.txt -O data/spam.txt && break || sleep 5; done"
   ]
  },
  {
   "cell_type": "code",
   "execution_count": 47,
   "id": "5319f1b6",
   "metadata": {},
   "outputs": [],
   "source": [
    "# Utility functions for the neural network\n",
    "\n",
    "class Tensor (object):\n",
    "    \n",
    "    def __init__(self,data,\n",
    "                 autograd=False,\n",
    "                 creators=None,\n",
    "                 creation_op=None,\n",
    "                 id=None):\n",
    "        \n",
    "        self.data = np.array(data)\n",
    "        self.autograd = autograd\n",
    "        self.grad = None\n",
    "\n",
    "        if(id is None):\n",
    "            self.id = np.random.randint(0,1000000000)\n",
    "        else:\n",
    "            self.id = id\n",
    "        \n",
    "        self.creators = creators\n",
    "        self.creation_op = creation_op\n",
    "        self.children = {}\n",
    "        \n",
    "        if(creators is not None):\n",
    "            for c in creators:\n",
    "                if(self.id not in c.children):\n",
    "                    c.children[self.id] = 1\n",
    "                else:\n",
    "                    c.children[self.id] += 1\n",
    "\n",
    "    def all_children_grads_accounted_for(self):\n",
    "        for id,cnt in self.children.items():\n",
    "            if(cnt != 0):\n",
    "                return False\n",
    "        return True \n",
    "        \n",
    "    def backward(self,grad=None, grad_origin=None):\n",
    "        if(self.autograd):\n",
    " \n",
    "            if(grad is None):\n",
    "                grad = Tensor(np.ones_like(self.data))\n",
    "\n",
    "            if(grad_origin is not None):\n",
    "                if(self.children[grad_origin.id] == 0):\n",
    "                    return\n",
    "                    print(self.id)\n",
    "                    print(self.creation_op)\n",
    "                    print(len(self.creators))\n",
    "                    for c in self.creators:\n",
    "                        print(c.creation_op)\n",
    "                    raise Exception(\"cannot backprop more than once\")\n",
    "                else:\n",
    "                    self.children[grad_origin.id] -= 1\n",
    "\n",
    "            if(self.grad is None):\n",
    "                self.grad = grad\n",
    "            else:\n",
    "                self.grad += grad\n",
    "            \n",
    "            # grads must not have grads of their own\n",
    "            assert grad.autograd == False\n",
    "            \n",
    "            # only continue backpropping if there's something to\n",
    "            # backprop into and if all gradients (from children)\n",
    "            # are accounted for override waiting for children if\n",
    "            # \"backprop\" was called on this variable directly\n",
    "            if(self.creators is not None and \n",
    "               (self.all_children_grads_accounted_for() or \n",
    "                grad_origin is None)):\n",
    "\n",
    "                if(self.creation_op == \"add\"):\n",
    "                    self.creators[0].backward(self.grad, self)\n",
    "                    self.creators[1].backward(self.grad, self)\n",
    "                    \n",
    "                if(self.creation_op == \"sub\"):\n",
    "                    self.creators[0].backward(Tensor(self.grad.data), self)\n",
    "                    self.creators[1].backward(Tensor(self.grad.__neg__().data), self)\n",
    "\n",
    "                if(self.creation_op == \"mul\"):\n",
    "                    new = self.grad * self.creators[1]\n",
    "                    self.creators[0].backward(new , self)\n",
    "                    new = self.grad * self.creators[0]\n",
    "                    self.creators[1].backward(new, self)                    \n",
    "                    \n",
    "                if(self.creation_op == \"mm\"):\n",
    "                    c0 = self.creators[0]\n",
    "                    c1 = self.creators[1]\n",
    "                    new = self.grad.mm(c1.transpose())\n",
    "                    c0.backward(new)\n",
    "                    new = self.grad.transpose().mm(c0).transpose()\n",
    "                    c1.backward(new)\n",
    "                    \n",
    "                if(self.creation_op == \"transpose\"):\n",
    "                    self.creators[0].backward(self.grad.transpose())\n",
    "\n",
    "                if(\"sum\" in self.creation_op):\n",
    "                    dim = int(self.creation_op.split(\"_\")[1])\n",
    "                    self.creators[0].backward(self.grad.expand(dim,\n",
    "                                                               self.creators[0].data.shape[dim]))\n",
    "\n",
    "                if(\"expand\" in self.creation_op):\n",
    "                    dim = int(self.creation_op.split(\"_\")[1])\n",
    "                    self.creators[0].backward(self.grad.sum(dim))\n",
    "                    \n",
    "                if(self.creation_op == \"neg\"):\n",
    "                    self.creators[0].backward(self.grad.__neg__())\n",
    "                    \n",
    "                if(self.creation_op == \"sigmoid\"):\n",
    "                    ones = Tensor(np.ones_like(self.grad.data))\n",
    "                    self.creators[0].backward(self.grad * (self * (ones - self)))\n",
    "                \n",
    "                if(self.creation_op == \"tanh\"):\n",
    "                    ones = Tensor(np.ones_like(self.grad.data))\n",
    "                    self.creators[0].backward(self.grad * (ones - (self * self)))\n",
    "                \n",
    "                if(self.creation_op == \"index_select\"):\n",
    "                    new_grad = np.zeros_like(self.creators[0].data)\n",
    "                    indices_ = self.index_select_indices.data.flatten()\n",
    "                    grad_ = grad.data.reshape(len(indices_), -1)\n",
    "                    for i in range(len(indices_)):\n",
    "                        new_grad[indices_[i]] += grad_[i]\n",
    "                    self.creators[0].backward(Tensor(new_grad))\n",
    "                    \n",
    "                if(self.creation_op == \"cross_entropy\"):\n",
    "                    dx = self.softmax_output - self.target_dist\n",
    "                    self.creators[0].backward(Tensor(dx))\n",
    "                    \n",
    "    def __add__(self, other):\n",
    "        if(self.autograd and other.autograd):\n",
    "            return Tensor(self.data + other.data,\n",
    "                          autograd=True,\n",
    "                          creators=[self,other],\n",
    "                          creation_op=\"add\")\n",
    "        return Tensor(self.data + other.data)\n",
    "\n",
    "    def __neg__(self):\n",
    "        if(self.autograd):\n",
    "            return Tensor(self.data * -1,\n",
    "                          autograd=True,\n",
    "                          creators=[self],\n",
    "                          creation_op=\"neg\")\n",
    "        return Tensor(self.data * -1)\n",
    "    \n",
    "    def __sub__(self, other):\n",
    "        if(self.autograd and other.autograd):\n",
    "            return Tensor(self.data - other.data,\n",
    "                          autograd=True,\n",
    "                          creators=[self,other],\n",
    "                          creation_op=\"sub\")\n",
    "        return Tensor(self.data - other.data)\n",
    "    \n",
    "    def __mul__(self, other):\n",
    "        if(self.autograd and other.autograd):\n",
    "            return Tensor(self.data * other.data,\n",
    "                          autograd=True,\n",
    "                          creators=[self,other],\n",
    "                          creation_op=\"mul\")\n",
    "        return Tensor(self.data * other.data)    \n",
    "\n",
    "    def sum(self, dim):\n",
    "        if(self.autograd):\n",
    "            return Tensor(self.data.sum(dim),\n",
    "                          autograd=True,\n",
    "                          creators=[self],\n",
    "                          creation_op=\"sum_\"+str(dim))\n",
    "        return Tensor(self.data.sum(dim))\n",
    "    \n",
    "    def expand(self, dim,copies):\n",
    "\n",
    "        trans_cmd = list(range(0,len(self.data.shape)))\n",
    "        trans_cmd.insert(dim,len(self.data.shape))\n",
    "        new_data = self.data.repeat(copies).reshape(list(self.data.shape) + [copies]).transpose(trans_cmd)\n",
    "        \n",
    "        if(self.autograd):\n",
    "            return Tensor(new_data,\n",
    "                          autograd=True,\n",
    "                          creators=[self],\n",
    "                          creation_op=\"expand_\"+str(dim))\n",
    "        return Tensor(new_data)\n",
    "    \n",
    "    def transpose(self):\n",
    "        if(self.autograd):\n",
    "            return Tensor(self.data.transpose(),\n",
    "                          autograd=True,\n",
    "                          creators=[self],\n",
    "                          creation_op=\"transpose\")\n",
    "        \n",
    "        return Tensor(self.data.transpose())\n",
    "    \n",
    "    def mm(self, x):\n",
    "        if(self.autograd):\n",
    "            return Tensor(self.data.dot(x.data),\n",
    "                          autograd=True,\n",
    "                          creators=[self,x],\n",
    "                          creation_op=\"mm\")\n",
    "        return Tensor(self.data.dot(x.data))\n",
    "    \n",
    "    def sigmoid(self):\n",
    "        if(self.autograd):\n",
    "            return Tensor(1 / (1 + np.exp(-self.data)),\n",
    "                          autograd=True,\n",
    "                          creators=[self],\n",
    "                          creation_op=\"sigmoid\")\n",
    "        return Tensor(1 / (1 + np.exp(-self.data)))\n",
    "\n",
    "    def tanh(self):\n",
    "        if(self.autograd):\n",
    "            return Tensor(np.tanh(self.data),\n",
    "                          autograd=True,\n",
    "                          creators=[self],\n",
    "                          creation_op=\"tanh\")\n",
    "        return Tensor(np.tanh(self.data))\n",
    "    \n",
    "    def index_select(self, indices):\n",
    "\n",
    "        if(self.autograd):\n",
    "            new = Tensor(self.data[indices.data],\n",
    "                         autograd=True,\n",
    "                         creators=[self],\n",
    "                         creation_op=\"index_select\")\n",
    "            new.index_select_indices = indices\n",
    "            return new\n",
    "        return Tensor(self.data[indices.data])\n",
    "    \n",
    "    def softmax(self):\n",
    "        temp = np.exp(self.data)\n",
    "        softmax_output = temp / np.sum(temp,\n",
    "                                       axis=len(self.data.shape)-1,\n",
    "                                       keepdims=True)\n",
    "        return softmax_output\n",
    "    \n",
    "    def cross_entropy(self, target_indices):\n",
    "\n",
    "        temp = np.exp(self.data)\n",
    "        softmax_output = temp / np.sum(temp,\n",
    "                                       axis=len(self.data.shape)-1,\n",
    "                                       keepdims=True)\n",
    "        \n",
    "        t = target_indices.data.flatten()\n",
    "        p = softmax_output.reshape(len(t),-1)\n",
    "        target_dist = np.eye(p.shape[1])[t]\n",
    "        loss = -(np.log(p) * (target_dist)).sum(1).mean()\n",
    "    \n",
    "        if(self.autograd):\n",
    "            out = Tensor(loss,\n",
    "                         autograd=True,\n",
    "                         creators=[self],\n",
    "                         creation_op=\"cross_entropy\")\n",
    "            out.softmax_output = softmax_output\n",
    "            out.target_dist = target_dist\n",
    "            return out\n",
    "\n",
    "        return Tensor(loss)\n",
    "        \n",
    "    \n",
    "    def __repr__(self):\n",
    "        return str(self.data.__repr__())\n",
    "    \n",
    "    def __str__(self):\n",
    "        return str(self.data.__str__())  \n",
    "\n",
    "class Layer(object):\n",
    "    \n",
    "    def __init__(self):\n",
    "        self.parameters = list()\n",
    "        \n",
    "    def get_parameters(self):\n",
    "        return self.parameters\n",
    "\n",
    "    \n",
    "class SGD(object):\n",
    "    \n",
    "    def __init__(self, parameters, alpha=0.1):\n",
    "        self.parameters = parameters\n",
    "        self.alpha = alpha\n",
    "    \n",
    "    def zero(self):\n",
    "        for p in self.parameters:\n",
    "            p.grad.data *= 0\n",
    "        \n",
    "    def step(self, zero=True):\n",
    "        \n",
    "        for p in self.parameters:\n",
    "            \n",
    "            p.data -= p.grad.data * self.alpha\n",
    "            \n",
    "            if(zero):\n",
    "                p.grad.data *= 0\n",
    "\n",
    "\n",
    "class Linear(Layer):\n",
    "\n",
    "    def __init__(self, n_inputs, n_outputs, bias=True):\n",
    "        super().__init__()\n",
    "        \n",
    "        self.use_bias = bias\n",
    "        \n",
    "        W = np.random.randn(n_inputs, n_outputs) * np.sqrt(2.0/(n_inputs))\n",
    "        self.weight = Tensor(W, autograd=True)\n",
    "        if(self.use_bias):\n",
    "            self.bias = Tensor(np.zeros(n_outputs), autograd=True)\n",
    "        \n",
    "        self.parameters.append(self.weight)\n",
    "        \n",
    "        if(self.use_bias):        \n",
    "            self.parameters.append(self.bias)\n",
    "\n",
    "    def forward(self, input):\n",
    "        if(self.use_bias):\n",
    "            return input.mm(self.weight)+self.bias.expand(0,len(input.data))\n",
    "        return input.mm(self.weight)\n",
    "\n",
    "\n",
    "class Sequential(Layer):\n",
    "    \n",
    "    def __init__(self, layers=list()):\n",
    "        super().__init__()\n",
    "        \n",
    "        self.layers = layers\n",
    "    \n",
    "    def add(self, layer):\n",
    "        self.layers.append(layer)\n",
    "        \n",
    "    def forward(self, input):\n",
    "        for layer in self.layers:\n",
    "            input = layer.forward(input)\n",
    "        return input\n",
    "    \n",
    "    def get_parameters(self):\n",
    "        params = list()\n",
    "        for l in self.layers:\n",
    "            params += l.get_parameters()\n",
    "        return params\n",
    "\n",
    "\n",
    "class Embedding(Layer):\n",
    "    \n",
    "    def __init__(self, vocab_size, dim):\n",
    "        super().__init__()\n",
    "        \n",
    "        self.vocab_size = vocab_size\n",
    "        self.dim = dim\n",
    "        \n",
    "        # this random initialiation style is just a convention from word2vec\n",
    "        self.weight = Tensor((np.random.rand(vocab_size, dim) - 0.5) / dim, autograd=True)\n",
    "        \n",
    "        self.parameters.append(self.weight)\n",
    "    \n",
    "    def forward(self, input):\n",
    "        return self.weight.index_select(input)\n",
    "\n",
    "\n",
    "class Tanh(Layer):\n",
    "    def __init__(self):\n",
    "        super().__init__()\n",
    "    \n",
    "    def forward(self, input):\n",
    "        return input.tanh()\n",
    "\n",
    "\n",
    "class Sigmoid(Layer):\n",
    "    def __init__(self):\n",
    "        super().__init__()\n",
    "    \n",
    "    def forward(self, input):\n",
    "        return input.sigmoid()\n",
    "    \n",
    "\n",
    "class CrossEntropyLoss(object):\n",
    "    \n",
    "    def __init__(self):\n",
    "        super().__init__()\n",
    "    \n",
    "    def forward(self, input, target):\n",
    "        return input.cross_entropy(target)\n",
    "\n",
    "class MSELoss(object):\n",
    "    \n",
    "    def __init__(self):\n",
    "        super().__init__()\n",
    "    \n",
    "    def forward(self, input, target):\n",
    "        dif = input - target\n",
    "        return (dif * dif).sum(0)\n",
    "    \n",
    "class RNNCell(Layer):\n",
    "    \n",
    "    def __init__(self, n_inputs, n_hidden, n_output, activation='sigmoid'):\n",
    "        super().__init__()\n",
    "\n",
    "        self.n_inputs = n_inputs\n",
    "        self.n_hidden = n_hidden\n",
    "        self.n_output = n_output\n",
    "        \n",
    "        if(activation == 'sigmoid'):\n",
    "            self.activation = Sigmoid()\n",
    "        elif(activation == 'tanh'):\n",
    "            self.activation == Tanh()\n",
    "        else:\n",
    "            raise Exception(\"Non-linearity not found\")\n",
    "\n",
    "        self.w_ih = Linear(n_inputs, n_hidden)\n",
    "        self.w_hh = Linear(n_hidden, n_hidden)\n",
    "        self.w_ho = Linear(n_hidden, n_output)\n",
    "        \n",
    "        self.parameters += self.w_ih.get_parameters()\n",
    "        self.parameters += self.w_hh.get_parameters()\n",
    "        self.parameters += self.w_ho.get_parameters()        \n",
    "    \n",
    "    def forward(self, input, hidden):\n",
    "        from_prev_hidden = self.w_hh.forward(hidden)\n",
    "        combined = self.w_ih.forward(input) + from_prev_hidden\n",
    "        new_hidden = self.activation.forward(combined)\n",
    "        output = self.w_ho.forward(new_hidden)\n",
    "        return output, new_hidden\n",
    "    \n",
    "    def init_hidden(self, batch_size=1):\n",
    "        return Tensor(np.zeros((batch_size,self.n_hidden)), autograd=True)\n",
    "    \n",
    "class LSTMCell(Layer):\n",
    "    \n",
    "    def __init__(self, n_inputs, n_hidden, n_output):\n",
    "        super().__init__()\n",
    "\n",
    "        self.n_inputs = n_inputs\n",
    "        self.n_hidden = n_hidden\n",
    "        self.n_output = n_output\n",
    "\n",
    "        self.xf = Linear(n_inputs, n_hidden)\n",
    "        self.xi = Linear(n_inputs, n_hidden)\n",
    "        self.xo = Linear(n_inputs, n_hidden)        \n",
    "        self.xc = Linear(n_inputs, n_hidden)        \n",
    "        \n",
    "        self.hf = Linear(n_hidden, n_hidden, bias=False)\n",
    "        self.hi = Linear(n_hidden, n_hidden, bias=False)\n",
    "        self.ho = Linear(n_hidden, n_hidden, bias=False)\n",
    "        self.hc = Linear(n_hidden, n_hidden, bias=False)        \n",
    "        \n",
    "        self.w_ho = Linear(n_hidden, n_output, bias=False)\n",
    "        \n",
    "        self.parameters += self.xf.get_parameters()\n",
    "        self.parameters += self.xi.get_parameters()\n",
    "        self.parameters += self.xo.get_parameters()\n",
    "        self.parameters += self.xc.get_parameters()\n",
    "\n",
    "        self.parameters += self.hf.get_parameters()\n",
    "        self.parameters += self.hi.get_parameters()        \n",
    "        self.parameters += self.ho.get_parameters()        \n",
    "        self.parameters += self.hc.get_parameters()                \n",
    "        \n",
    "        self.parameters += self.w_ho.get_parameters()        \n",
    "    \n",
    "    def forward(self, input, hidden):\n",
    "        \n",
    "        prev_hidden = hidden[0]        \n",
    "        prev_cell = hidden[1]\n",
    "        \n",
    "        f = (self.xf.forward(input) + self.hf.forward(prev_hidden)).sigmoid()\n",
    "        i = (self.xi.forward(input) + self.hi.forward(prev_hidden)).sigmoid()\n",
    "        o = (self.xo.forward(input) + self.ho.forward(prev_hidden)).sigmoid()        \n",
    "        g = (self.xc.forward(input) + self.hc.forward(prev_hidden)).tanh()        \n",
    "        c = (f * prev_cell) + (i * g)\n",
    "\n",
    "        h = o * c.tanh()\n",
    "        \n",
    "        output = self.w_ho.forward(h)\n",
    "        return output, (h, c)\n",
    "    \n",
    "    def init_hidden(self, batch_size=1):\n",
    "        init_hidden = Tensor(np.zeros((batch_size,self.n_hidden)), autograd=True)\n",
    "        init_cell = Tensor(np.zeros((batch_size,self.n_hidden)), autograd=True)\n",
    "        init_hidden.data[:,0] += 1\n",
    "        init_cell.data[:,0] += 1\n",
    "        return (init_hidden, init_cell)"
   ]
  },
  {
   "cell_type": "code",
   "execution_count": 49,
   "id": "ca182ea9",
   "metadata": {},
   "outputs": [],
   "source": [
    "# preparation of the data\n",
    "# From the book Grokking Deep Learning by Andrew W. Trask, Manning Publications\n",
    "from collections import Counter\n",
    "import random\n",
    "import codecs\n",
    "\n",
    "\n",
    "with codecs.open('data/spam.txt', \"r\",encoding='utf-8', errors='ignore') as fdata:\n",
    "    raw = fdata.readlines()\n",
    "\n",
    "vocab = set()\n",
    "    \n",
    "spam = list()\n",
    "for row in raw:\n",
    "    spam.append(set(row[:-2].split(\" \")))\n",
    "    for word in spam[-1]:\n",
    "        vocab.add(word)\n",
    "    \n",
    "import codecs\n",
    "with codecs.open('data/ham.txt', \"r\",encoding='utf-8', errors='ignore') as fdata:\n",
    "    raw = fdata.readlines()\n",
    "\n",
    "ham = list()\n",
    "for row in raw:\n",
    "    ham.append(set(row[:-2].split(\" \")))\n",
    "    for word in ham[-1]:\n",
    "        vocab.add(word)\n",
    "        \n",
    "vocab.add(\"<unk>\")\n",
    "\n",
    "vocab = list(vocab)\n",
    "w2i = {}\n",
    "for i,w in enumerate(vocab):\n",
    "    w2i[w] = i\n",
    "    \n",
    "def to_indices(input, l=500):\n",
    "    indices = list()\n",
    "    for line in input:\n",
    "        if(len(line) < l):\n",
    "            line = list(line) + [\"<unk>\"] * (l - len(line))\n",
    "            idxs = list()\n",
    "            for word in line:\n",
    "                idxs.append(w2i[word])\n",
    "            indices.append(idxs)\n",
    "    return indices\n",
    "            \n",
    "spam_idx = to_indices(spam)\n",
    "ham_idx = to_indices(ham)\n",
    "\n",
    "train_spam_idx = spam_idx[0:-1000]\n",
    "train_ham_idx = ham_idx[0:-1000]\n",
    "\n",
    "test_spam_idx = spam_idx[-1000:]\n",
    "test_ham_idx = ham_idx[-1000:]\n",
    "\n",
    "train_data = list()\n",
    "train_target = list()\n",
    "\n",
    "test_data = list()\n",
    "test_target = list()\n",
    "\n",
    "for i in range(max(len(train_spam_idx),len(train_ham_idx))):\n",
    "    train_data.append(train_spam_idx[i%len(train_spam_idx)])\n",
    "    train_target.append([1])\n",
    "    \n",
    "    train_data.append(train_ham_idx[i%len(train_ham_idx)])\n",
    "    train_target.append([0])\n",
    "    \n",
    "for i in range(max(len(test_spam_idx),len(test_ham_idx))):\n",
    "    test_data.append(test_spam_idx[i%len(test_spam_idx)])\n",
    "    test_target.append([1])\n",
    "    \n",
    "    test_data.append(test_ham_idx[i%len(test_ham_idx)])\n",
    "    test_target.append([0])"
   ]
  },
  {
   "cell_type": "code",
   "execution_count": 54,
   "id": "da4ede43",
   "metadata": {},
   "outputs": [],
   "source": [
    "def train(model, input_data, target_data, batch_size=500, iterations=5):\n",
    "    \n",
    "    criterion = MSELoss()\n",
    "    optim = SGD(parameters=model.get_parameters(), alpha=0.01)\n",
    "    bs = batch_size\n",
    "    n_batches = int(len(input_data) / batch_size)\n",
    "    for iter in range(iterations):\n",
    "        iter_loss = 0\n",
    "        for b_i in range(n_batches):\n",
    "\n",
    "            # padding token should stay at 0\n",
    "            model.weight.data[w2i['<unk>']] *= 0 \n",
    "            input = Tensor(input_data[b_i*bs:(b_i+1)*bs], autograd=True)\n",
    "            target = Tensor(target_data[b_i*bs:(b_i+1)*bs], autograd=True)\n",
    "\n",
    "            pred = model.forward(input).sum(1).sigmoid()\n",
    "            loss = criterion.forward(pred,target)\n",
    "            loss.backward()\n",
    "            optim.step()\n",
    "\n",
    "            iter_loss += loss.data[0] / bs\n",
    "\n",
    "            sys.stdout.write(\"\\r\\tLoss:\" + str(iter_loss / (b_i+1)))\n",
    "        print()\n",
    "    return model"
   ]
  },
  {
   "cell_type": "code",
   "execution_count": 55,
   "id": "9398ec84",
   "metadata": {},
   "outputs": [],
   "source": [
    "def test(model, test_input, test_output):\n",
    "    \n",
    "    model.weight.data[w2i['<unk>']] *= 0 \n",
    "    \n",
    "    input = Tensor(test_input, autograd=True)\n",
    "    target = Tensor(test_output, autograd=True)\n",
    "\n",
    "    pred = model.forward(input).sum(1).sigmoid()\n",
    "    return ((pred.data > 0.5) == target.data).mean()\n"
   ]
  },
  {
   "cell_type": "code",
   "execution_count": 56,
   "id": "dcb8f60e",
   "metadata": {},
   "outputs": [],
   "source": [
    "model = Embedding(vocab_size=len(vocab), dim=1)\n",
    "model.weight.data *= 0\n",
    "criterion = MSELoss()\n",
    "optim = SGD(parameters=model.get_parameters(), alpha=0.01)"
   ]
  },
  {
   "cell_type": "code",
   "execution_count": 57,
   "id": "48adbf83",
   "metadata": {},
   "outputs": [
    {
     "name": "stdout",
     "output_type": "stream",
     "text": [
      "\tLoss:0.037140416860871466\n",
      "% Correct on Test Set: 98.65\n",
      "\tLoss:0.011258669226059108\n",
      "% Correct on Test Set: 99.15\n",
      "\tLoss:0.008068268387986223\n",
      "% Correct on Test Set: 99.45\n"
     ]
    }
   ],
   "source": [
    "for i in range(3):\n",
    "    model = train(model, train_data, train_target, iterations=1)\n",
    "    print(\"% Correct on Test Set: \" + str(test(model, test_data, test_target)*100))"
   ]
  },
  {
   "cell_type": "code",
   "execution_count": 59,
   "id": "9da8f0f1",
   "metadata": {},
   "outputs": [
    {
     "name": "stdout",
     "output_type": "stream",
     "text": [
      "Starting Training Round...\n",
      "\tStep 1: send the model to Bob\n",
      "\tLoss:0.21908166249699718\n",
      "\n",
      "\tStep 2: send the model to Alice\n",
      "\tLoss:0.2937106899184867\n",
      "\n",
      "\tStep 3: Send the model to Sue\n",
      "\tLoss:0.033339966977175894\n",
      "\n",
      "\tAverage Everyone's New Models\n",
      "\t% Correct on Test Set: 84.05\n",
      "\n",
      "Repeat!!\n",
      "\n",
      "Starting Training Round...\n",
      "\tStep 1: send the model to Bob\n",
      "\tLoss:0.06625367483630413\n",
      "\n",
      "\tStep 2: send the model to Alice\n",
      "\tLoss:0.09595374225556821\n",
      "\n",
      "\tStep 3: Send the model to Sue\n",
      "\tLoss:0.020290247881140743\n",
      "\n",
      "\tAverage Everyone's New Models\n",
      "\t% Correct on Test Set: 92.25\n",
      "\n",
      "Repeat!!\n",
      "\n",
      "Starting Training Round...\n",
      "\tStep 1: send the model to Bob\n",
      "\tLoss:0.030819682914453833\n",
      "\n",
      "\tStep 2: send the model to Alice\n",
      "\tLoss:0.03580324891736099\n",
      "\n",
      "\tStep 3: Send the model to Sue\n",
      "\tLoss:0.015368461608470256\n",
      "\n",
      "\tAverage Everyone's New Models\n",
      "\t% Correct on Test Set: 98.8\n",
      "\n",
      "Repeat!!\n",
      "\n"
     ]
    }
   ],
   "source": [
    "# Basic Federated Learning\n",
    "import copy\n",
    "bob = (train_data[0:1000], train_target[0:1000])\n",
    "alice = (train_data[1000:2000], train_target[1000:2000])\n",
    "sue = (train_data[2000:], train_target[2000:])\n",
    "\n",
    "model = Embedding(vocab_size=len(vocab), dim=1)\n",
    "model.weight.data *= 0\n",
    "\n",
    "for i in range(3):\n",
    "    print(\"Starting Training Round...\")\n",
    "    print(\"\\tStep 1: send the model to Bob\")\n",
    "    bob_model = train(copy.deepcopy(model), bob[0], bob[1], iterations=1)\n",
    "    \n",
    "    print(\"\\n\\tStep 2: send the model to Alice\")\n",
    "    alice_model = train(copy.deepcopy(model), alice[0], alice[1], iterations=1)\n",
    "    \n",
    "    print(\"\\n\\tStep 3: Send the model to Sue\")\n",
    "    sue_model = train(copy.deepcopy(model), sue[0], sue[1], iterations=1)\n",
    "    \n",
    "    print(\"\\n\\tAverage Everyone's New Models\")\n",
    "    model.weight.data = (bob_model.weight.data + \\\n",
    "                         alice_model.weight.data + \\\n",
    "                         sue_model.weight.data)/3\n",
    "    \n",
    "    print(\"\\t% Correct on Test Set: \" + \\\n",
    "          str(test(model, test_data, test_target)*100))\n",
    "    \n",
    "    print(\"\\nRepeat!!\\n\")\n"
   ]
  },
  {
   "cell_type": "markdown",
   "id": "636f868a",
   "metadata": {},
   "source": [
    "## Federated learning with Homomorphic Encryption"
   ]
  },
  {
   "cell_type": "code",
   "execution_count": 60,
   "id": "1131b06b",
   "metadata": {},
   "outputs": [
    {
     "name": "stdout",
     "output_type": "stream",
     "text": [
      "The Answer: 8\n"
     ]
    }
   ],
   "source": [
    "import phe\n",
    "\n",
    "public_key, private_key = phe.generate_paillier_keypair(n_length=1024)\n",
    "\n",
    "# encrypt the number \"5\"\n",
    "x = public_key.encrypt(5)\n",
    "\n",
    "# encrypt the number \"3\"\n",
    "y = public_key.encrypt(3)\n",
    "\n",
    "# add the two encrypted values\n",
    "z = x + y\n",
    "\n",
    "# decrypt the result\n",
    "z_ = private_key.decrypt(z)\n",
    "print(\"The Answer: \" + str(z_))"
   ]
  },
  {
   "cell_type": "code",
   "execution_count": 61,
   "id": "7b55661b",
   "metadata": {},
   "outputs": [],
   "source": [
    "model = Embedding(vocab_size=len(vocab), dim=1)\n",
    "model.weight.data *= 0\n",
    "\n",
    "# note that in production the n_length should be at least 1024\n",
    "public_key, private_key = phe.generate_paillier_keypair(n_length=128)\n",
    "\n",
    "def train_and_encrypt(model, input, target, pubkey):\n",
    "    new_model = train(copy.deepcopy(model), input, target, iterations=1)\n",
    "\n",
    "    encrypted_weights = list()\n",
    "    for val in new_model.weight.data[:,0]:\n",
    "        encrypted_weights.append(public_key.encrypt(val))\n",
    "    ew = np.array(encrypted_weights).reshape(new_model.weight.data.shape)\n",
    "    \n",
    "    return ew"
   ]
  },
  {
   "cell_type": "code",
   "execution_count": 62,
   "id": "f38e57c4",
   "metadata": {},
   "outputs": [
    {
     "name": "stdout",
     "output_type": "stream",
     "text": [
      "\n",
      "Starting Training Round...\n",
      "\tStep 1: send the model to Bob\n",
      "\tLoss:0.21908166249699718\n",
      "\n",
      "\tStep 2: send the model to Alice\n",
      "\tLoss:0.2937106899184867\n",
      "\n",
      "\tStep 3: Send the model to Sue\n",
      "\tLoss:0.033339966977175894\n",
      "\n",
      "\tStep 4: Bob, Alice, and Sue send their\n",
      "\tencrypted models to each other.\n",
      "\n",
      "\tStep 5: only the aggregated model\n",
      "\tis sent back to the model owner who\n",
      "\t can decrypt it.\n",
      "\t% Correct on Test Set: 98.75\n",
      "\n",
      "Starting Training Round...\n",
      "\tStep 1: send the model to Bob\n",
      "\tLoss:0.06366414053035604\n",
      "\n",
      "\tStep 2: send the model to Alice\n",
      "\tLoss:0.061000357913513055\n",
      "\n",
      "\tStep 3: Send the model to Sue\n",
      "\tLoss:0.025483920416627266\n",
      "\n",
      "\tStep 4: Bob, Alice, and Sue send their\n",
      "\tencrypted models to each other.\n",
      "\n",
      "\tStep 5: only the aggregated model\n",
      "\tis sent back to the model owner who\n",
      "\t can decrypt it.\n",
      "\t% Correct on Test Set: 99.05000000000001\n",
      "\n",
      "Starting Training Round...\n",
      "\tStep 1: send the model to Bob\n",
      "\tLoss:0.058477976535441636\n",
      "\n",
      "\tStep 2: send the model to Alice\n",
      "\tLoss:0.05987976552444443\n",
      "\n",
      "\tStep 3: Send the model to Sue\n",
      "\tLoss:0.024763428511034752\n",
      "\n",
      "\tStep 4: Bob, Alice, and Sue send their\n",
      "\tencrypted models to each other.\n",
      "\n",
      "\tStep 5: only the aggregated model\n",
      "\tis sent back to the model owner who\n",
      "\t can decrypt it.\n",
      "\t% Correct on Test Set: 99.15\n"
     ]
    }
   ],
   "source": [
    "for i in range(3):\n",
    "    print(\"\\nStarting Training Round...\")\n",
    "    print(\"\\tStep 1: send the model to Bob\")\n",
    "    bob_encrypted_model = train_and_encrypt(copy.deepcopy(model), \n",
    "                                            bob[0], bob[1], public_key)\n",
    "\n",
    "    print(\"\\n\\tStep 2: send the model to Alice\")\n",
    "    alice_encrypted_model = train_and_encrypt(copy.deepcopy(model), \n",
    "                                              alice[0], alice[1], public_key)\n",
    "\n",
    "    print(\"\\n\\tStep 3: Send the model to Sue\")\n",
    "    sue_encrypted_model = train_and_encrypt(copy.deepcopy(model), \n",
    "                                            sue[0], sue[1], public_key)\n",
    "\n",
    "    print(\"\\n\\tStep 4: Bob, Alice, and Sue send their\")\n",
    "    print(\"\\tencrypted models to each other.\")\n",
    "    aggregated_model = bob_encrypted_model + \\\n",
    "                       alice_encrypted_model + \\\n",
    "                       sue_encrypted_model\n",
    "\n",
    "    print(\"\\n\\tStep 5: only the aggregated model\")\n",
    "    print(\"\\tis sent back to the model owner who\")\n",
    "    print(\"\\t can decrypt it.\")\n",
    "    raw_values = list()\n",
    "    for val in sue_encrypted_model.flatten():\n",
    "        raw_values.append(private_key.decrypt(val))\n",
    "    model.weight.data = np.array(raw_values).reshape(model.weight.data.shape)/3\n",
    "\n",
    "    print(\"\\t% Correct on Test Set: \" + \\\n",
    "              str(test(model, test_data, test_target)*100))"
   ]
  },
  {
   "cell_type": "code",
   "execution_count": 63,
   "id": "b2ce616f",
   "metadata": {
    "slideshow": {
     "slide_type": "slide"
    }
   },
   "outputs": [
    {
     "name": "stdout",
     "output_type": "stream",
     "text": [
      "<class 'pandas.core.frame.DataFrame'>\n",
      "RangeIndex: 693 entries, 0 to 692\n",
      "Data columns (total 5 columns):\n",
      " #   Column       Non-Null Count  Dtype   \n",
      "---  ------       --------------  -----   \n",
      " 0   Date         693 non-null    object  \n",
      " 1   Instrument   693 non-null    object  \n",
      " 2   Reading      693 non-null    object  \n",
      " 3   Observation  693 non-null    float32 \n",
      " 4   Status       693 non-null    category\n",
      "dtypes: category(1), float32(1), object(3)\n",
      "memory usage: 20.0+ KB\n",
      "####################################################################################################\n"
     ]
    },
    {
     "data": {
      "text/html": [
       "<div>\n",
       "<style scoped>\n",
       "    .dataframe tbody tr th:only-of-type {\n",
       "        vertical-align: middle;\n",
       "    }\n",
       "\n",
       "    .dataframe tbody tr th {\n",
       "        vertical-align: top;\n",
       "    }\n",
       "\n",
       "    .dataframe thead th {\n",
       "        text-align: right;\n",
       "    }\n",
       "</style>\n",
       "<table border=\"1\" class=\"dataframe\">\n",
       "  <thead>\n",
       "    <tr style=\"text-align: right;\">\n",
       "      <th></th>\n",
       "      <th>Date</th>\n",
       "      <th>Instrument</th>\n",
       "      <th>Reading</th>\n",
       "      <th>Observation</th>\n",
       "      <th>Status</th>\n",
       "    </tr>\n",
       "  </thead>\n",
       "  <tbody>\n",
       "    <tr>\n",
       "      <th>0</th>\n",
       "      <td>2021/04/04 12:05:00</td>\n",
       "      <td>Pulse oximeter</td>\n",
       "      <td>HR</td>\n",
       "      <td>62.000000</td>\n",
       "      <td>Well</td>\n",
       "    </tr>\n",
       "    <tr>\n",
       "      <th>1</th>\n",
       "      <td>2021/04/04 12:06:00</td>\n",
       "      <td>Pulse oximeter</td>\n",
       "      <td>SpO2</td>\n",
       "      <td>96.000000</td>\n",
       "      <td>Well</td>\n",
       "    </tr>\n",
       "    <tr>\n",
       "      <th>2</th>\n",
       "      <td>2021/04/04 12:13:42</td>\n",
       "      <td>Thermometer</td>\n",
       "      <td>Temperature</td>\n",
       "      <td>36.700001</td>\n",
       "      <td>Well</td>\n",
       "    </tr>\n",
       "    <tr>\n",
       "      <th>3</th>\n",
       "      <td>2021/10/04 09:33:00</td>\n",
       "      <td>Thermometer</td>\n",
       "      <td>Temperature</td>\n",
       "      <td>37.000000</td>\n",
       "      <td>Well</td>\n",
       "    </tr>\n",
       "    <tr>\n",
       "      <th>4</th>\n",
       "      <td>2021/10/04 09:33:00</td>\n",
       "      <td>Pulse oximeter</td>\n",
       "      <td>HR</td>\n",
       "      <td>63.000000</td>\n",
       "      <td>Well</td>\n",
       "    </tr>\n",
       "  </tbody>\n",
       "</table>\n",
       "</div>"
      ],
      "text/plain": [
       "                   Date      Instrument      Reading  Observation Status\n",
       "0  2021/04/04 12:05:00   Pulse oximeter           HR    62.000000   Well\n",
       "1  2021/04/04 12:06:00   Pulse oximeter         SpO2    96.000000   Well\n",
       "2  2021/04/04 12:13:42      Thermometer  Temperature    36.700001   Well\n",
       "3  2021/10/04 09:33:00      Thermometer  Temperature    37.000000   Well\n",
       "4  2021/10/04 09:33:00   Pulse oximeter           HR    63.000000   Well"
      ]
     },
     "execution_count": 63,
     "metadata": {},
     "output_type": "execute_result"
    }
   ],
   "source": [
    "# How would you scan this dataset with your current knowledge\n",
    "spo2_temp_hr_df.info()\n",
    "print(\"#\" * 100)\n",
    "spo2_temp_hr_df.head()"
   ]
  },
  {
   "cell_type": "code",
   "execution_count": 64,
   "id": "cee93d5d",
   "metadata": {
    "slideshow": {
     "slide_type": "slide"
    }
   },
   "outputs": [
    {
     "data": {
      "text/plain": [
       "Well       0.917749\n",
       "Tired      0.056277\n",
       "Allergy    0.012987\n",
       "anxious    0.008658\n",
       "Off        0.004329\n",
       "Name: Status, dtype: float64"
      ]
     },
     "execution_count": 64,
     "metadata": {},
     "output_type": "execute_result"
    }
   ],
   "source": [
    "spo2_temp_hr_df.Status.value_counts(normalize=True)"
   ]
  },
  {
   "cell_type": "markdown",
   "id": "08602b74",
   "metadata": {},
   "source": [
    "## Summary:  "
   ]
  },
  {
   "cell_type": "markdown",
   "id": "9c61d001",
   "metadata": {
    "slideshow": {
     "slide_type": "slide"
    }
   },
   "source": [
    "Definitions:     \n",
    " * **Data Privacy**: segregating data and controlling access. \"Gatekeeping data\"  \n",
    " * **Anonymization**: removing PIIs   \n",
    "     * PII information that can identify you either directly sensitive PIIs or indirect Quasi-identifiers. Non-sensitive PIIs are not dangerous but they are still personal.     \n",
    "* **Techniques**:  \n",
    "    * **Data Deletion** - is a way of reducing load on your object storage and database. Make a solid plan and talk to legal team to advice. A retriever and a destroyer is a good start. You even save money.  \n",
    "    \n",
    "    * **Masking & Sampling** - storing data without column names in for instance object storage and giving a small subset still retaining properties of the original dataset.   \n",
    "    \n",
    "    * **K-anonymity** - making groups that exist have similar characteristics reducing reidentification strategies.  Look into l-diversity.  \n",
    "        \n",
    "    * **Differential privacy ML** - adding noise to your models governed by BudgetAccountant and epsilon parameter.  \n",
    "        \n",
    "    * **PCA** - reducing dimensions of your data and still retaining the properties of the data.\n",
    "    \n",
    "    * **Embeddings** - representing data in a lower dimension.   \n",
    "    \n",
    "    * **Federated Learning** - training an algorithm across multiple devices or servers holding local data samples, without exchanging them.    \n",
    "        \n",
    "    * **Federated Learning with Homomorphic Encryption** - training an algorithm across multiple devices or servers holding local data samples, without exchanging them and using homomorphic encryption to secure the data.   "
   ]
  },
  {
   "cell_type": "markdown",
   "id": "6ddc69d5",
   "metadata": {
    "slideshow": {
     "slide_type": "slide"
    }
   },
   "source": [
    "Learn more\n",
    "\n",
    "* https://www.manning.com/books/data-privacy\n",
    "\n",
    "* https://ethics.fast.ai/\n",
    "    \n",
    "* https://www.apple.com/privacy/docs/Differential_Privacy_Overview.pdf\n",
    "\n",
    "* https://www.manning.com/books/privacy-preserving-machine-learning\n",
    "\n",
    "* https://www.manning.com/books/grokking-deep-learning\n",
    "\n",
    "* https://www.manning.com/books/build-a-career-in-data-science\n",
    "\n",
    "* https://www.datacamp.com/"
   ]
  }
 ],
 "metadata": {
  "celltoolbar": "Slideshow",
  "kernelspec": {
   "display_name": "Python 3 (ipykernel)",
   "language": "python",
   "name": "python3"
  },
  "language_info": {
   "codemirror_mode": {
    "name": "ipython",
    "version": 3
   },
   "file_extension": ".py",
   "mimetype": "text/x-python",
   "name": "python",
   "nbconvert_exporter": "python",
   "pygments_lexer": "ipython3",
   "version": "3.10.12"
  },
  "vscode": {
   "interpreter": {
    "hash": "2d7d650417b136a2ccf428668fa8778c74667b41cbbcd8088def9b351812786c"
   }
  }
 },
 "nbformat": 4,
 "nbformat_minor": 5
}
